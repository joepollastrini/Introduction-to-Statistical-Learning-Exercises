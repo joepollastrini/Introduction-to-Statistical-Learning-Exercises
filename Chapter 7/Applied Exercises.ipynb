{
 "cells": [
  {
   "cell_type": "markdown",
   "metadata": {},
   "source": [
    "6. In this exercise, you will further analyze the Wage data set.\n",
    "\n",
    "a) Perform polynomial regression to predict wage using age.  Use cross-validation to select the optimal degree d for the polynomial.  What degree was chosen, and how does this compare to the results of hypothesis testing using ANOVA?  make a plot of the resulting polynomial fit to the data."
   ]
  },
  {
   "cell_type": "markdown",
   "metadata": {},
   "source": [
    "b) Fit a step function to predict wage using age, and perform cross validation to choose the optimal number of cuts.  Make a plot of the fit obtained."
   ]
  },
  {
   "cell_type": "markdown",
   "metadata": {},
   "source": [
    "9. Using the Boston data set, dis as the parameter, and nox as the response...\n",
    "\n",
    "a) Fit a cubic polynomial regression to predict nox using dis.  Report the output and plot the resulting data and fits"
   ]
  },
  {
   "cell_type": "markdown",
   "metadata": {},
   "source": [
    "b)  Plot the fits for a range of different polynomial degrees, (1-8), and report the associated RSS"
   ]
  },
  {
   "cell_type": "markdown",
   "metadata": {},
   "source": [
    "c)  Perform cross validation to select the optimal degree for the polynomial and explain the results"
   ]
  },
  {
   "cell_type": "markdown",
   "metadata": {},
   "source": [
    "d) Fit a regression spline to predict nox using dis.  Report the output for the fit using four degrees of freedom.  How were the knots chosen?  Plot the fit"
   ]
  },
  {
   "cell_type": "markdown",
   "metadata": {},
   "source": [
    "e) Fit a regression spline for a range of df and plot the resulting fits and report the RSS for each.  Describe the results."
   ]
  },
  {
   "cell_type": "markdown",
   "metadata": {},
   "source": [
    "f) Perform cross validation or another approach in order to select the best degrees of freedom for a regression spline on this data.  Describe the results."
   ]
  },
  {
   "cell_type": "markdown",
   "metadata": {},
   "source": [
    "10.  This question uses the College data set\n",
    "\n",
    "a) Split the data into a training and test set.  Using out of state tuition as the response and the other variables as the predictors, perform forward stepwise selection on the training set in order to identify a satisfactory model that uses just a subset of the predictors."
   ]
  },
  {
   "cell_type": "markdown",
   "metadata": {},
   "source": [
    "b)  Fit a GAM on the training data, using out of stat tuition as the response and the features selected in the previous step as the predictors.  Plot the results, and explain your findings."
   ]
  },
  {
   "cell_type": "markdown",
   "metadata": {},
   "source": [
    "c)  Evaluate the model obtained on the test set, and explain the results"
   ]
  },
  {
   "cell_type": "markdown",
   "metadata": {},
   "source": [
    "d)  For which varialbes, if any, is there evidence of a non-linear relationship with the response."
   ]
  },
  {
   "cell_type": "markdown",
   "metadata": {},
   "source": [
    "11.  GAMs are generally fit using a backfitting approach.  This will explore that concept with multiple linear regression.\n",
    "\n",
    "Suppose that we would like to perform multiple linear regression, but don't have software to do so.  Instead we only have software for simple linear regression.  We will iterate through the following approach.  We repeatedly hold all but one coefficient estimate fixed at its current value, and update only that coefficient estimate using a simple linear regression.  The process is continued until a convergence (estimates stop changing).\n",
    "\n",
    "Try it on the following example\n",
    "\n",
    "a) Generate a response Y and two predictors X1 and X2 with n=100."
   ]
  },
  {
   "cell_type": "markdown",
   "metadata": {},
   "source": [
    "b) Set B1 to a value."
   ]
  },
  {
   "cell_type": "markdown",
   "metadata": {},
   "source": [
    "c) Keeping B1 fixed, fit the model Y-B1X1 = B0 + B2X2\n",
    "\n",
    "HINT: create a new variable for the value of Y-B1X1 then create a model based on that value"
   ]
  },
  {
   "cell_type": "markdown",
   "metadata": {},
   "source": [
    "d) Keeping B2 fixed, fit the model Y-B2X2 = B0+B1X1"
   ]
  },
  {
   "cell_type": "markdown",
   "metadata": {},
   "source": [
    "e)  Write a for loop to repeat c and d 1000 times.  Report the estimates after each loop.  Create a plot in which each of these values is displayed"
   ]
  },
  {
   "cell_type": "markdown",
   "metadata": {},
   "source": [
    "f) Compare the answer to the results of simply performing a multiple linear regression to predict Y."
   ]
  },
  {
   "cell_type": "markdown",
   "metadata": {},
   "source": [
    "g) How many backfitting iterations were needed to obtain a decent approximation of the estimates?"
   ]
  },
  {
   "cell_type": "code",
   "execution_count": null,
   "metadata": {},
   "outputs": [],
   "source": []
  }
 ],
 "metadata": {
  "kernelspec": {
   "display_name": "Python 3",
   "language": "python",
   "name": "python3"
  },
  "language_info": {
   "codemirror_mode": {
    "name": "ipython",
    "version": 3
   },
   "file_extension": ".py",
   "mimetype": "text/x-python",
   "name": "python",
   "nbconvert_exporter": "python",
   "pygments_lexer": "ipython3",
   "version": "3.7.4"
  }
 },
 "nbformat": 4,
 "nbformat_minor": 2
}
