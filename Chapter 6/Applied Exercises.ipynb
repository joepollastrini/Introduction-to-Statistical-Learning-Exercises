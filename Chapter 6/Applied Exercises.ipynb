{
 "cells": [
  {
   "cell_type": "markdown",
   "metadata": {},
   "source": [
    "#### 8) We will generate simulated data and use it to perform best subset selection\n",
    "\n",
    "a) Create a dataset of n = 100 with a predictor, X, from a random normal distribution and a noise term"
   ]
  },
  {
   "cell_type": "code",
   "execution_count": 1,
   "metadata": {},
   "outputs": [],
   "source": [
    "import pandas as pd\n",
    "import numpy as np"
   ]
  },
  {
   "cell_type": "code",
   "execution_count": 2,
   "metadata": {},
   "outputs": [],
   "source": [
    "np.random.seed(0)\n",
    "x = np.random.normal(0, 1, 100)\n",
    "error = np.random.normal(0, 1, 100)"
   ]
  },
  {
   "cell_type": "code",
   "execution_count": 3,
   "metadata": {},
   "outputs": [],
   "source": [
    "b0 = 1.4\n",
    "b1 = 0.5\n",
    "b2 = -0.1\n",
    "b3 = 1.2"
   ]
  },
  {
   "cell_type": "markdown",
   "metadata": {},
   "source": [
    "b) generate a response variable, Y, such that Y = B0 + B1X + B2X^2 + B3X^3 + error, and the Beta terms are constants of your choice"
   ]
  },
  {
   "cell_type": "code",
   "execution_count": 4,
   "metadata": {},
   "outputs": [],
   "source": [
    "df = pd.DataFrame({'X':x, 'error':error}, columns = ['X', 'error'])\n",
    "for i in range(2, 11):\n",
    "    col_name = 'X' + str(i)\n",
    "    df[col_name] = df['X'].apply(lambda x: x**i)\n",
    "df['Y'] = df.apply(lambda row: b0 + b1*row['X'] + b2*row['X2'] + b3*row['X3'] + row['error'], axis=1)"
   ]
  },
  {
   "cell_type": "markdown",
   "metadata": {},
   "source": [
    "c) Use best subset selection to choose the best model from the predictors X, X^2, ..., X^10.  What is the best model according to Cp, BIC, and adjusted R^2.  Show plots to provide evidence and report the coefficients of the best model obtained."
   ]
  },
  {
   "cell_type": "code",
   "execution_count": 5,
   "metadata": {},
   "outputs": [],
   "source": [
    "from sklearn import linear_model\n",
    "from sklearn.metrics import mean_squared_error\n",
    "import statsmodels.api as sm\n",
    "import itertools"
   ]
  },
  {
   "cell_type": "code",
   "execution_count": 6,
   "metadata": {},
   "outputs": [],
   "source": [
    "def model_fit(x, y):\n",
    "    model = sm.OLS(y, sm.add_constant(x)).fit()\n",
    "    BIC = model.bic\n",
    "    adj = model.rsquared_adj\n",
    "    return BIC, adj"
   ]
  },
  {
   "cell_type": "code",
   "execution_count": 7,
   "metadata": {},
   "outputs": [
    {
     "name": "stderr",
     "output_type": "stream",
     "text": [
      "C:\\Users\\joepo\\Anaconda3\\lib\\site-packages\\numpy\\core\\fromnumeric.py:2389: FutureWarning: Method .ptp is deprecated and will be removed in a future version. Use numpy.ptp instead.\n",
      "  return ptp(axis=axis, out=out, **kwargs)\n"
     ]
    }
   ],
   "source": [
    "Y = df['Y']\n",
    "X = df.drop(columns = ['error', 'Y'], axis=1)\n",
    "k = X.shape[1]\n",
    "\n",
    "BIC_data = []\n",
    "R2_data = []\n",
    "features = []\n",
    "numb_features = []\n",
    "\n",
    "for i in range(1, k + 1):\n",
    "    for combo in itertools.combinations(X.columns, i):\n",
    "        mod = model_fit(X[list(combo)], Y)\n",
    "        BIC_data.append(mod[0])\n",
    "        R2_data.append(mod[1])\n",
    "        features.append(list(combo))\n",
    "        numb_features.append(i)\n",
    "        \n",
    "bestSubset = pd.DataFrame({'BIC':BIC_data, 'R2':R2_data, 'Feats':features, '#':numb_features})"
   ]
  },
  {
   "cell_type": "code",
   "execution_count": 8,
   "metadata": {},
   "outputs": [],
   "source": [
    "best_bic = bestSubset.groupby('#')['BIC'].min()\n",
    "best_r2 = bestSubset.groupby('#')['R2'].max()\n",
    "\n",
    "avg_bic = bestSubset.groupby('#')['BIC'].mean()\n",
    "avg_r2 = bestSubset.groupby('#')['R2'].mean()"
   ]
  },
  {
   "cell_type": "code",
   "execution_count": 9,
   "metadata": {},
   "outputs": [],
   "source": [
    "import seaborn as sns\n",
    "import matplotlib.pyplot as plt\n",
    "\n",
    "fig = plt.figure(figsize = (10, 6))\n",
    "\n",
    "ax1 = fig.add_subplot(1, 2, 1)\n",
    "ax1.set_title('Best BIC')\n",
    "best_bic.plot();\n",
    "\n",
    "ax2 = fig.add_subplot(1, 2, 2)\n",
    "ax2.set_title('Best Adjusted R^2')\n",
    "best_r2.plot();"
   ]
  },
  {
   "cell_type": "markdown",
   "metadata": {},
   "source": [
    "3 variables seems to be the best"
   ]
  },
  {
   "cell_type": "code",
   "execution_count": 10,
   "metadata": {},
   "outputs": [
    {
     "data": {
      "text/plain": [
       "[['X2', 'X3', 'X5']]"
      ]
     },
     "execution_count": 10,
     "metadata": {},
     "output_type": "execute_result"
    }
   ],
   "source": [
    "bestGrouped = bestSubset[bestSubset.groupby('#')['BIC'].transform(min) == bestSubset['BIC']]\n",
    "bestCols = bestGrouped.loc[bestGrouped['#'] == 3]\n",
    "x_cols = list(bestCols['Feats'])\n",
    "x_cols"
   ]
  },
  {
   "cell_type": "code",
   "execution_count": 11,
   "metadata": {},
   "outputs": [
    {
     "name": "stderr",
     "output_type": "stream",
     "text": [
      "C:\\Users\\joepo\\Anaconda3\\lib\\site-packages\\numpy\\core\\fromnumeric.py:2389: FutureWarning: Method .ptp is deprecated and will be removed in a future version. Use numpy.ptp instead.\n",
      "  return ptp(axis=axis, out=out, **kwargs)\n"
     ]
    },
    {
     "data": {
      "text/plain": [
       "const    1.586906\n",
       "X2      -0.229213\n",
       "X3       1.727621\n",
       "X5      -0.080601\n",
       "dtype: float64"
      ]
     },
     "execution_count": 11,
     "metadata": {},
     "output_type": "execute_result"
    }
   ],
   "source": [
    "x_data = df[x_cols[0]]\n",
    "y_data = df['Y']\n",
    "model = sm.OLS(y_data, sm.add_constant(x_data)).fit()\n",
    "model.params"
   ]
  },
  {
   "cell_type": "markdown",
   "metadata": {},
   "source": [
    "d) Repeat c, using forward stepwise selection and using backwards selection.  How do the results compare to c?"
   ]
  },
  {
   "cell_type": "markdown",
   "metadata": {},
   "source": [
    "Backwards"
   ]
  },
  {
   "cell_type": "code",
   "execution_count": 12,
   "metadata": {},
   "outputs": [],
   "source": [
    "x = df.drop(columns = ['error', 'Y'])\n",
    "y = df['Y']"
   ]
  },
  {
   "cell_type": "code",
   "execution_count": 13,
   "metadata": {},
   "outputs": [
    {
     "name": "stdout",
     "output_type": "stream",
     "text": [
      "                            OLS Regression Results                            \n",
      "==============================================================================\n",
      "Dep. Variable:                      Y   R-squared:                       0.952\n",
      "Model:                            OLS   Adj. R-squared:                  0.947\n",
      "Method:                 Least Squares   F-statistic:                     176.9\n",
      "Date:                Wed, 12 Aug 2020   Prob (F-statistic):           3.17e-54\n",
      "Time:                        14:14:31   Log-Likelihood:                -139.57\n",
      "No. Observations:                 100   AIC:                             301.1\n",
      "Df Residuals:                      89   BIC:                             329.8\n",
      "Df Model:                          10                                         \n",
      "Covariance Type:            nonrobust                                         \n",
      "==============================================================================\n",
      "                 coef    std err          t      P>|t|      [0.025      0.975]\n",
      "------------------------------------------------------------------------------\n",
      "const          1.7798      0.220      8.094      0.000       1.343       2.217\n",
      "X              0.3975      0.621      0.640      0.524      -0.836       1.631\n",
      "X2            -1.4865      1.593     -0.933      0.353      -4.651       1.678\n",
      "X3             0.4009      1.543      0.260      0.796      -2.664       3.466\n",
      "X4             1.1357      2.578      0.441      0.661      -3.987       6.258\n",
      "X5             1.2123      1.176      1.031      0.305      -1.124       3.548\n",
      "X6            -0.3210      1.504     -0.213      0.832      -3.310       2.668\n",
      "X7            -0.4224      0.336     -1.259      0.211      -1.089       0.244\n",
      "X8             0.0219      0.355      0.062      0.951      -0.683       0.727\n",
      "X9             0.0416      0.032      1.319      0.190      -0.021       0.104\n",
      "X10            0.0018      0.029      0.063      0.950      -0.055       0.059\n",
      "==============================================================================\n",
      "Omnibus:                       12.606   Durbin-Watson:                   1.988\n",
      "Prob(Omnibus):                  0.002   Jarque-Bera (JB):                5.096\n",
      "Skew:                           0.286   Prob(JB):                       0.0782\n",
      "Kurtosis:                       2.053   Cond. No.                     4.43e+04\n",
      "==============================================================================\n",
      "\n",
      "Warnings:\n",
      "[1] Standard Errors assume that the covariance matrix of the errors is correctly specified.\n",
      "[2] The condition number is large, 4.43e+04. This might indicate that there are\n",
      "strong multicollinearity or other numerical problems.\n"
     ]
    }
   ],
   "source": [
    "model = sm.OLS(y, sm.add_constant(x)).fit()\n",
    "print(model.summary())"
   ]
  },
  {
   "cell_type": "code",
   "execution_count": 14,
   "metadata": {},
   "outputs": [
    {
     "name": "stdout",
     "output_type": "stream",
     "text": [
      "                            OLS Regression Results                            \n",
      "==============================================================================\n",
      "Dep. Variable:                      Y   R-squared:                       0.952\n",
      "Model:                            OLS   Adj. R-squared:                  0.947\n",
      "Method:                 Least Squares   F-statistic:                     198.7\n",
      "Date:                Wed, 12 Aug 2020   Prob (F-statistic):           2.18e-55\n",
      "Time:                        14:14:31   Log-Likelihood:                -139.57\n",
      "No. Observations:                 100   AIC:                             299.1\n",
      "Df Residuals:                      90   BIC:                             325.2\n",
      "Df Model:                           9                                         \n",
      "Covariance Type:            nonrobust                                         \n",
      "==============================================================================\n",
      "                 coef    std err          t      P>|t|      [0.025      0.975]\n",
      "------------------------------------------------------------------------------\n",
      "const          1.7861      0.195      9.176      0.000       1.399       2.173\n",
      "X              0.3911      0.609      0.642      0.522      -0.819       1.601\n",
      "X2            -1.5677      0.920     -1.704      0.092      -3.395       0.260\n",
      "X3             0.4260      1.482      0.287      0.774      -2.518       3.369\n",
      "X4             1.2857      0.947      1.358      0.178      -0.595       3.166\n",
      "X5             1.1866      1.096      1.083      0.282      -0.990       3.363\n",
      "X6            -0.4131      0.317     -1.304      0.196      -1.042       0.216\n",
      "X7            -0.4132      0.300     -1.376      0.172      -1.010       0.183\n",
      "X8             0.0441      0.032      1.358      0.178      -0.020       0.109\n",
      "X9             0.0405      0.027      1.526      0.131      -0.012       0.093\n",
      "==============================================================================\n",
      "Omnibus:                       12.679   Durbin-Watson:                   1.985\n",
      "Prob(Omnibus):                  0.002   Jarque-Bera (JB):                5.114\n",
      "Skew:                           0.286   Prob(JB):                       0.0775\n",
      "Kurtosis:                       2.052   Cond. No.                     1.02e+04\n",
      "==============================================================================\n",
      "\n",
      "Warnings:\n",
      "[1] Standard Errors assume that the covariance matrix of the errors is correctly specified.\n",
      "[2] The condition number is large, 1.02e+04. This might indicate that there are\n",
      "strong multicollinearity or other numerical problems.\n"
     ]
    }
   ],
   "source": [
    "x = x.drop(columns=['X10'])\n",
    "model = sm.OLS(y, sm.add_constant(x)).fit()\n",
    "print(model.summary())"
   ]
  },
  {
   "cell_type": "code",
   "execution_count": 15,
   "metadata": {},
   "outputs": [
    {
     "name": "stdout",
     "output_type": "stream",
     "text": [
      "                            OLS Regression Results                            \n",
      "==============================================================================\n",
      "Dep. Variable:                      Y   R-squared:                       0.952\n",
      "Model:                            OLS   Adj. R-squared:                  0.948\n",
      "Method:                 Least Squares   F-statistic:                     225.8\n",
      "Date:                Wed, 12 Aug 2020   Prob (F-statistic):           1.46e-56\n",
      "Time:                        14:14:31   Log-Likelihood:                -139.62\n",
      "No. Observations:                 100   AIC:                             297.2\n",
      "Df Residuals:                      91   BIC:                             320.7\n",
      "Df Model:                           8                                         \n",
      "Covariance Type:            nonrobust                                         \n",
      "==============================================================================\n",
      "                 coef    std err          t      P>|t|      [0.025      0.975]\n",
      "------------------------------------------------------------------------------\n",
      "const          1.7853      0.194      9.219      0.000       1.401       2.170\n",
      "X              0.5478      0.270      2.027      0.046       0.011       1.085\n",
      "X2            -1.5976      0.909     -1.757      0.082      -3.404       0.209\n",
      "X4             1.3372      0.925      1.446      0.152      -0.500       3.174\n",
      "X5             1.4924      0.260      5.738      0.000       0.976       2.009\n",
      "X6            -0.4363      0.305     -1.432      0.156      -1.042       0.169\n",
      "X7            -0.4930      0.114     -4.330      0.000      -0.719      -0.267\n",
      "X8             0.0472      0.030      1.548      0.125      -0.013       0.108\n",
      "X9             0.0473      0.012      3.806      0.000       0.023       0.072\n",
      "==============================================================================\n",
      "Omnibus:                       12.493   Durbin-Watson:                   1.994\n",
      "Prob(Omnibus):                  0.002   Jarque-Bera (JB):                5.132\n",
      "Skew:                           0.293   Prob(JB):                       0.0768\n",
      "Kurtosis:                       2.057   Cond. No.                     6.94e+03\n",
      "==============================================================================\n",
      "\n",
      "Warnings:\n",
      "[1] Standard Errors assume that the covariance matrix of the errors is correctly specified.\n",
      "[2] The condition number is large, 6.94e+03. This might indicate that there are\n",
      "strong multicollinearity or other numerical problems.\n"
     ]
    }
   ],
   "source": [
    "x = x.drop(columns=['X3'])\n",
    "model = sm.OLS(y, sm.add_constant(x)).fit()\n",
    "print(model.summary())"
   ]
  },
  {
   "cell_type": "code",
   "execution_count": 16,
   "metadata": {},
   "outputs": [
    {
     "name": "stdout",
     "output_type": "stream",
     "text": [
      "                            OLS Regression Results                            \n",
      "==============================================================================\n",
      "Dep. Variable:                      Y   R-squared:                       0.951\n",
      "Model:                            OLS   Adj. R-squared:                  0.947\n",
      "Method:                 Least Squares   F-statistic:                     254.9\n",
      "Date:                Wed, 12 Aug 2020   Prob (F-statistic):           2.42e-57\n",
      "Time:                        14:14:31   Log-Likelihood:                -140.73\n",
      "No. Observations:                 100   AIC:                             297.5\n",
      "Df Residuals:                      92   BIC:                             318.3\n",
      "Df Model:                           7                                         \n",
      "Covariance Type:            nonrobust                                         \n",
      "==============================================================================\n",
      "                 coef    std err          t      P>|t|      [0.025      0.975]\n",
      "------------------------------------------------------------------------------\n",
      "const          1.6482      0.169      9.738      0.000       1.312       1.984\n",
      "X              0.6230      0.267      2.337      0.022       0.094       1.152\n",
      "X2            -0.4322      0.408     -1.060      0.292      -1.242       0.378\n",
      "X4             0.0344      0.165      0.208      0.835      -0.294       0.363\n",
      "X5             1.3872      0.251      5.529      0.000       0.889       1.886\n",
      "X7            -0.4417      0.109     -4.064      0.000      -0.658      -0.226\n",
      "X8             0.0039      0.004      0.971      0.334      -0.004       0.012\n",
      "X9             0.0407      0.012      3.507      0.001       0.018       0.064\n",
      "==============================================================================\n",
      "Omnibus:                       11.963   Durbin-Watson:                   2.022\n",
      "Prob(Omnibus):                  0.003   Jarque-Bera (JB):                4.474\n",
      "Skew:                           0.210   Prob(JB):                        0.107\n",
      "Kurtosis:                       2.052   Cond. No.                     2.38e+03\n",
      "==============================================================================\n",
      "\n",
      "Warnings:\n",
      "[1] Standard Errors assume that the covariance matrix of the errors is correctly specified.\n",
      "[2] The condition number is large, 2.38e+03. This might indicate that there are\n",
      "strong multicollinearity or other numerical problems.\n"
     ]
    }
   ],
   "source": [
    "x = x.drop(columns=['X6'])\n",
    "model = sm.OLS(y, sm.add_constant(x)).fit()\n",
    "print(model.summary())"
   ]
  },
  {
   "cell_type": "code",
   "execution_count": 17,
   "metadata": {},
   "outputs": [
    {
     "name": "stdout",
     "output_type": "stream",
     "text": [
      "                            OLS Regression Results                            \n",
      "==============================================================================\n",
      "Dep. Variable:                      Y   R-squared:                       0.951\n",
      "Model:                            OLS   Adj. R-squared:                  0.948\n",
      "Method:                 Least Squares   F-statistic:                     300.5\n",
      "Date:                Wed, 12 Aug 2020   Prob (F-statistic):           1.36e-58\n",
      "Time:                        14:14:31   Log-Likelihood:                -140.76\n",
      "No. Observations:                 100   AIC:                             295.5\n",
      "Df Residuals:                      93   BIC:                             313.8\n",
      "Df Model:                           6                                         \n",
      "Covariance Type:            nonrobust                                         \n",
      "==============================================================================\n",
      "                 coef    std err          t      P>|t|      [0.025      0.975]\n",
      "------------------------------------------------------------------------------\n",
      "const          1.6291      0.142     11.504      0.000       1.348       1.910\n",
      "X              0.6163      0.263      2.341      0.021       0.094       1.139\n",
      "X2            -0.3516      0.128     -2.754      0.007      -0.605      -0.098\n",
      "X5             1.3985      0.244      5.737      0.000       0.914       1.883\n",
      "X7            -0.4471      0.105     -4.253      0.000      -0.656      -0.238\n",
      "X8             0.0047      0.002      2.496      0.014       0.001       0.008\n",
      "X9             0.0414      0.011      3.711      0.000       0.019       0.064\n",
      "==============================================================================\n",
      "Omnibus:                       12.423   Durbin-Watson:                   2.010\n",
      "Prob(Omnibus):                  0.002   Jarque-Bera (JB):                4.606\n",
      "Skew:                           0.219   Prob(JB):                        0.100\n",
      "Kurtosis:                       2.044   Cond. No.                     1.85e+03\n",
      "==============================================================================\n",
      "\n",
      "Warnings:\n",
      "[1] Standard Errors assume that the covariance matrix of the errors is correctly specified.\n",
      "[2] The condition number is large, 1.85e+03. This might indicate that there are\n",
      "strong multicollinearity or other numerical problems.\n"
     ]
    }
   ],
   "source": [
    "x = x.drop(columns=['X4'])\n",
    "model = sm.OLS(y, sm.add_constant(x)).fit()\n",
    "print(model.summary())"
   ]
  },
  {
   "cell_type": "markdown",
   "metadata": {},
   "source": [
    "This method keeps many more variables"
   ]
  },
  {
   "cell_type": "code",
   "execution_count": 18,
   "metadata": {},
   "outputs": [
    {
     "data": {
      "text/plain": [
       "const    1.629131\n",
       "X        0.616345\n",
       "X2      -0.351628\n",
       "X5       1.398493\n",
       "X7      -0.447058\n",
       "X8       0.004660\n",
       "X9       0.041387\n",
       "dtype: float64"
      ]
     },
     "execution_count": 18,
     "metadata": {},
     "output_type": "execute_result"
    }
   ],
   "source": [
    "model.params"
   ]
  },
  {
   "cell_type": "markdown",
   "metadata": {},
   "source": [
    "***\n",
    "Forward"
   ]
  },
  {
   "cell_type": "code",
   "execution_count": 19,
   "metadata": {},
   "outputs": [],
   "source": [
    "x = df.drop(columns = ['error', 'Y'])\n",
    "y = df['Y']"
   ]
  },
  {
   "cell_type": "code",
   "execution_count": 20,
   "metadata": {},
   "outputs": [
    {
     "name": "stdout",
     "output_type": "stream",
     "text": [
      "X: 457.2140941321456, 0.7380986215327766\n",
      "X2: 592.0914908171761, -0.009027204349405515\n",
      "X3: 312.4348926817268, 0.9384299223351408\n",
      "X4: 592.1270502222935, -0.009386072222604902\n",
      "X5: 436.0502089595571, 0.7880545006448726\n",
      "X6: 590.7685542038417, 0.004233676049315571\n",
      "X7: 493.5752082675984, 0.6232510101852304\n",
      "X8: 587.9759650109153, 0.03165665113952765\n",
      "X9: 520.5260686816937, 0.5067146744258382\n",
      "X10: 584.5522401120544, 0.0642489446151221\n"
     ]
    }
   ],
   "source": [
    "for c in x.columns:\n",
    "    x_data = x[c]\n",
    "    model = sm.OLS(y, sm.add_constant(x_data)).fit()\n",
    "    bic = model.bic\n",
    "    adj = model.rsquared_adj\n",
    "    print('{}: {}, {}'.format(c, bic, adj))"
   ]
  },
  {
   "cell_type": "code",
   "execution_count": 21,
   "metadata": {},
   "outputs": [
    {
     "name": "stdout",
     "output_type": "stream",
     "text": [
      "['X3', 'X']: 306.7369727015427, 0.9438850874065042\n",
      "['X3', 'X2']: 313.79654117125204, 0.9397804359623894\n",
      "['X3', 'X4']: 316.04803340515, 0.9384092186536857\n",
      "['X3', 'X5']: 307.31602634746724, 0.9435592093654508\n",
      "['X3', 'X6']: 316.8558228543487, 0.9379096799260609\n",
      "['X3', 'X7']: 309.7669068568319, 0.9421588222188302\n",
      "['X3', 'X8']: 317.03894903627037, 0.9377958721194256\n",
      "['X3', 'X9']: 311.59880754913974, 0.9410894644009435\n",
      "['X3', 'X10']: 316.9773237517707, 0.9378341937810734\n"
     ]
    }
   ],
   "source": [
    "keep_cols = ['X3']\n",
    "cols = x.columns\n",
    "x_cols = cols.drop(keep_cols)\n",
    "\n",
    "for c in x_cols:\n",
    "    cols = keep_cols + [c]\n",
    "    x_data = x[cols]\n",
    "    model = sm.OLS(y, sm.add_constant(x_data)).fit()\n",
    "    bic = model.bic\n",
    "    adj = model.rsquared_adj\n",
    "    print('{}: {}, {}'.format(cols, bic, adj))"
   ]
  },
  {
   "cell_type": "markdown",
   "metadata": {},
   "source": [
    "BIC decreases and Adj R^2 increases when X and X3 are used"
   ]
  },
  {
   "cell_type": "code",
   "execution_count": 22,
   "metadata": {},
   "outputs": [
    {
     "name": "stdout",
     "output_type": "stream",
     "text": [
      "['X3', 'X', 'X2']: 307.0000988427286, 0.9457097884040169\n",
      "['X3', 'X', 'X4']: 309.2634530652569, 0.9444669972787478\n",
      "['X3', 'X', 'X5']: 310.1851037425038, 0.9439528111227244\n",
      "['X3', 'X', 'X6']: 310.28523640260113, 0.943896661474215\n",
      "['X3', 'X', 'X7']: 310.7510677956349, 0.9436347048464201\n",
      "['X3', 'X', 'X8']: 310.7515510412442, 0.943634432462948\n",
      "['X3', 'X', 'X9']: 311.0774509251191, 0.9434504374869447\n",
      "['X3', 'X', 'X10']: 310.98064727855865, 0.9435051530379741\n"
     ]
    }
   ],
   "source": [
    "keep_cols = ['X3', 'X']\n",
    "cols = x.columns\n",
    "x_cols = cols.drop(keep_cols)\n",
    "\n",
    "for c in x_cols:\n",
    "    cols = keep_cols + [c]\n",
    "    x_data = x[cols]\n",
    "    model = sm.OLS(y, sm.add_constant(x_data)).fit()\n",
    "    bic = model.bic\n",
    "    adj = model.rsquared_adj\n",
    "    print('{}: {}, {}'.format(cols, bic, adj))"
   ]
  },
  {
   "cell_type": "markdown",
   "metadata": {},
   "source": [
    "BIC increases slightly, and Adj R^2 increases when X, X2, and X3 are used"
   ]
  },
  {
   "cell_type": "code",
   "execution_count": 23,
   "metadata": {},
   "outputs": [
    {
     "name": "stdout",
     "output_type": "stream",
     "text": [
      "['X', 'X3', 'X2', 'X4']: 309.9787349697433, 0.9460234385724502\n",
      "['X', 'X3', 'X2', 'X5']: 308.10092647399046, 0.947027557804949\n",
      "['X', 'X3', 'X2', 'X6']: 310.1715561155734, 0.9459192599412887\n",
      "['X', 'X3', 'X2', 'X7']: 308.6038209152274, 0.9467604913694819\n",
      "['X', 'X3', 'X2', 'X8']: 310.21577523098244, 0.9458953406283634\n",
      "['X', 'X3', 'X2', 'X9']: 309.0154876575666, 0.9465408702753223\n",
      "['X', 'X3', 'X2', 'X10']: 310.1967599008514, 0.9459056278298557\n"
     ]
    }
   ],
   "source": [
    "keep_cols = ['X', 'X3', 'X2']\n",
    "cols = x.columns\n",
    "x_cols = cols.drop(keep_cols)\n",
    "\n",
    "for c in x_cols:\n",
    "    cols = keep_cols + [c]\n",
    "    x_data = x[cols]\n",
    "    model = sm.OLS(y, sm.add_constant(x_data)).fit()\n",
    "    bic = model.bic\n",
    "    adj = model.rsquared_adj\n",
    "    print('{}: {}, {}'.format(cols, bic, adj))"
   ]
  },
  {
   "cell_type": "markdown",
   "metadata": {},
   "source": [
    "BIC and adj R^2 increase slightly when adding X5 to the model.  R^2 increases by 0.0013"
   ]
  },
  {
   "cell_type": "code",
   "execution_count": 24,
   "metadata": {},
   "outputs": [
    {
     "name": "stdout",
     "output_type": "stream",
     "text": [
      "['X', 'X3', 'X2', 'X5', 'X4']: 312.31489447941203, 0.9466730459810082\n",
      "['X', 'X3', 'X2', 'X5', 'X6']: 312.5357608729921, 0.9465551344953703\n",
      "['X', 'X3', 'X2', 'X5', 'X7']: 312.16553647662136, 0.946752634603696\n",
      "['X', 'X3', 'X2', 'X5', 'X8']: 312.6260199964898, 0.9465068738516706\n",
      "['X', 'X3', 'X2', 'X5', 'X9']: 312.193544706514, 0.9467377188704651\n",
      "['X', 'X3', 'X2', 'X5', 'X10']: 312.6686968804014, 0.9464840397802351\n"
     ]
    }
   ],
   "source": [
    "keep_cols = ['X', 'X3', 'X2', 'X5']\n",
    "cols = x.columns\n",
    "x_cols = cols.drop(keep_cols)\n",
    "\n",
    "for c in x_cols:\n",
    "    cols = keep_cols + [c]\n",
    "    x_data = x[cols]\n",
    "    model = sm.OLS(y, sm.add_constant(x_data)).fit()\n",
    "    bic = model.bic\n",
    "    adj = model.rsquared_adj\n",
    "    print('{}: {}, {}'.format(cols, bic, adj))"
   ]
  },
  {
   "cell_type": "markdown",
   "metadata": {},
   "source": [
    "BIC increases significantly more than prior, and R^2 decreases.  The best model has X, X2, X3, and X5 as its features."
   ]
  },
  {
   "cell_type": "code",
   "execution_count": 25,
   "metadata": {},
   "outputs": [
    {
     "data": {
      "text/plain": [
       "const    1.577226\n",
       "X        0.230710\n",
       "X2      -0.215664\n",
       "X3       1.577513\n",
       "X5      -0.061077\n",
       "dtype: float64"
      ]
     },
     "execution_count": 25,
     "metadata": {},
     "output_type": "execute_result"
    }
   ],
   "source": [
    "x_data = df[['X', 'X2', 'X3', 'X5']]\n",
    "model = sm.OLS(y, sm.add_constant(x_data)).fit()\n",
    "model.params"
   ]
  },
  {
   "cell_type": "markdown",
   "metadata": {},
   "source": [
    "e) Now fit a lasso model to the simulated data, using the same predictors.  Use cross validation to select the optimal lambda. Create plots of the cross validation error as a function of lambda.  Report the resulting coefficient estimates and discuss the results obtained."
   ]
  },
  {
   "cell_type": "code",
   "execution_count": 26,
   "metadata": {},
   "outputs": [
    {
     "name": "stderr",
     "output_type": "stream",
     "text": [
      "C:\\Users\\joepo\\Anaconda3\\lib\\site-packages\\sklearn\\linear_model\\coordinate_descent.py:475: ConvergenceWarning: Objective did not converge. You might want to increase the number of iterations. Duality gap: 38.79754915579858, tolerance: 0.1625647600549571\n",
      "  positive)\n",
      "C:\\Users\\joepo\\Anaconda3\\lib\\site-packages\\sklearn\\linear_model\\coordinate_descent.py:475: ConvergenceWarning: Objective did not converge. You might want to increase the number of iterations. Duality gap: 44.44484997575065, tolerance: 0.19320369713617133\n",
      "  positive)\n",
      "C:\\Users\\joepo\\Anaconda3\\lib\\site-packages\\sklearn\\linear_model\\coordinate_descent.py:475: ConvergenceWarning: Objective did not converge. You might want to increase the number of iterations. Duality gap: 45.155199860945864, tolerance: 0.12531217379019594\n",
      "  positive)\n",
      "C:\\Users\\joepo\\Anaconda3\\lib\\site-packages\\sklearn\\linear_model\\coordinate_descent.py:475: ConvergenceWarning: Objective did not converge. You might want to increase the number of iterations. Duality gap: 46.09602841753498, tolerance: 0.18486198808246898\n",
      "  positive)\n",
      "C:\\Users\\joepo\\Anaconda3\\lib\\site-packages\\sklearn\\linear_model\\coordinate_descent.py:475: ConvergenceWarning: Objective did not converge. You might want to increase the number of iterations. Duality gap: 43.480746834519636, tolerance: 0.17258136729624773\n",
      "  positive)\n",
      "C:\\Users\\joepo\\Anaconda3\\lib\\site-packages\\sklearn\\linear_model\\coordinate_descent.py:475: ConvergenceWarning: Objective did not converge. You might want to increase the number of iterations. Duality gap: 43.94141303734082, tolerance: 0.1962047966790703\n",
      "  positive)\n",
      "C:\\Users\\joepo\\Anaconda3\\lib\\site-packages\\sklearn\\linear_model\\coordinate_descent.py:475: ConvergenceWarning: Objective did not converge. You might want to increase the number of iterations. Duality gap: 43.487446961225736, tolerance: 0.18678003276143887\n",
      "  positive)\n",
      "C:\\Users\\joepo\\Anaconda3\\lib\\site-packages\\sklearn\\linear_model\\coordinate_descent.py:475: ConvergenceWarning: Objective did not converge. You might want to increase the number of iterations. Duality gap: 46.12135690901648, tolerance: 0.19572174276150142\n",
      "  positive)\n",
      "C:\\Users\\joepo\\Anaconda3\\lib\\site-packages\\sklearn\\linear_model\\coordinate_descent.py:475: ConvergenceWarning: Objective did not converge. You might want to increase the number of iterations. Duality gap: 42.42102091557321, tolerance: 0.18286414408055196\n",
      "  positive)\n",
      "C:\\Users\\joepo\\Anaconda3\\lib\\site-packages\\sklearn\\linear_model\\coordinate_descent.py:475: ConvergenceWarning: Objective did not converge. You might want to increase the number of iterations. Duality gap: 43.557426169409915, tolerance: 0.19096986194104162\n",
      "  positive)\n",
      "C:\\Users\\joepo\\Anaconda3\\lib\\site-packages\\sklearn\\linear_model\\coordinate_descent.py:475: ConvergenceWarning: Objective did not converge. You might want to increase the number of iterations. Duality gap: 38.79754915579867, tolerance: 0.1625647600549571\n",
      "  positive)\n",
      "C:\\Users\\joepo\\Anaconda3\\lib\\site-packages\\sklearn\\linear_model\\coordinate_descent.py:475: ConvergenceWarning: Objective did not converge. You might want to increase the number of iterations. Duality gap: 44.44484997575046, tolerance: 0.19320369713617133\n",
      "  positive)\n",
      "C:\\Users\\joepo\\Anaconda3\\lib\\site-packages\\sklearn\\linear_model\\coordinate_descent.py:475: ConvergenceWarning: Objective did not converge. You might want to increase the number of iterations. Duality gap: 45.15519986094552, tolerance: 0.12531217379019594\n",
      "  positive)\n",
      "C:\\Users\\joepo\\Anaconda3\\lib\\site-packages\\sklearn\\linear_model\\coordinate_descent.py:475: ConvergenceWarning: Objective did not converge. You might want to increase the number of iterations. Duality gap: 46.09602841753512, tolerance: 0.18486198808246898\n",
      "  positive)\n",
      "C:\\Users\\joepo\\Anaconda3\\lib\\site-packages\\sklearn\\linear_model\\coordinate_descent.py:475: ConvergenceWarning: Objective did not converge. You might want to increase the number of iterations. Duality gap: 43.480746834519714, tolerance: 0.17258136729624773\n",
      "  positive)\n",
      "C:\\Users\\joepo\\Anaconda3\\lib\\site-packages\\sklearn\\linear_model\\coordinate_descent.py:475: ConvergenceWarning: Objective did not converge. You might want to increase the number of iterations. Duality gap: 43.94141303734118, tolerance: 0.1962047966790703\n",
      "  positive)\n",
      "C:\\Users\\joepo\\Anaconda3\\lib\\site-packages\\sklearn\\linear_model\\coordinate_descent.py:475: ConvergenceWarning: Objective did not converge. You might want to increase the number of iterations. Duality gap: 43.487446961225835, tolerance: 0.18678003276143887\n",
      "  positive)\n",
      "C:\\Users\\joepo\\Anaconda3\\lib\\site-packages\\sklearn\\linear_model\\coordinate_descent.py:475: ConvergenceWarning: Objective did not converge. You might want to increase the number of iterations. Duality gap: 46.12135690901646, tolerance: 0.19572174276150142\n",
      "  positive)\n",
      "C:\\Users\\joepo\\Anaconda3\\lib\\site-packages\\sklearn\\linear_model\\coordinate_descent.py:475: ConvergenceWarning: Objective did not converge. You might want to increase the number of iterations. Duality gap: 42.42102091557312, tolerance: 0.18286414408055196\n",
      "  positive)\n",
      "C:\\Users\\joepo\\Anaconda3\\lib\\site-packages\\sklearn\\linear_model\\coordinate_descent.py:475: ConvergenceWarning: Objective did not converge. You might want to increase the number of iterations. Duality gap: 43.55742616940997, tolerance: 0.19096986194104162\n",
      "  positive)\n",
      "C:\\Users\\joepo\\Anaconda3\\lib\\site-packages\\sklearn\\linear_model\\coordinate_descent.py:475: ConvergenceWarning: Objective did not converge. You might want to increase the number of iterations. Duality gap: 38.79754916963384, tolerance: 0.1625647600549571\n",
      "  positive)\n",
      "C:\\Users\\joepo\\Anaconda3\\lib\\site-packages\\sklearn\\linear_model\\coordinate_descent.py:475: ConvergenceWarning: Objective did not converge. You might want to increase the number of iterations. Duality gap: 44.44484996384969, tolerance: 0.19320369713617133\n",
      "  positive)\n",
      "C:\\Users\\joepo\\Anaconda3\\lib\\site-packages\\sklearn\\linear_model\\coordinate_descent.py:475: ConvergenceWarning: Objective did not converge. You might want to increase the number of iterations. Duality gap: 45.15519981189344, tolerance: 0.12531217379019594\n",
      "  positive)\n",
      "C:\\Users\\joepo\\Anaconda3\\lib\\site-packages\\sklearn\\linear_model\\coordinate_descent.py:475: ConvergenceWarning: Objective did not converge. You might want to increase the number of iterations. Duality gap: 46.0960284311806, tolerance: 0.18486198808246898\n",
      "  positive)\n",
      "C:\\Users\\joepo\\Anaconda3\\lib\\site-packages\\sklearn\\linear_model\\coordinate_descent.py:475: ConvergenceWarning: Objective did not converge. You might want to increase the number of iterations. Duality gap: 43.480746847617375, tolerance: 0.17258136729624773\n",
      "  positive)\n",
      "C:\\Users\\joepo\\Anaconda3\\lib\\site-packages\\sklearn\\linear_model\\coordinate_descent.py:475: ConvergenceWarning: Objective did not converge. You might want to increase the number of iterations. Duality gap: 43.94141304679663, tolerance: 0.1962047966790703\n",
      "  positive)\n",
      "C:\\Users\\joepo\\Anaconda3\\lib\\site-packages\\sklearn\\linear_model\\coordinate_descent.py:475: ConvergenceWarning: Objective did not converge. You might want to increase the number of iterations. Duality gap: 43.48744697107925, tolerance: 0.18678003276143887\n",
      "  positive)\n",
      "C:\\Users\\joepo\\Anaconda3\\lib\\site-packages\\sklearn\\linear_model\\coordinate_descent.py:475: ConvergenceWarning: Objective did not converge. You might want to increase the number of iterations. Duality gap: 46.12135692075446, tolerance: 0.19572174276150142\n",
      "  positive)\n",
      "C:\\Users\\joepo\\Anaconda3\\lib\\site-packages\\sklearn\\linear_model\\coordinate_descent.py:475: ConvergenceWarning: Objective did not converge. You might want to increase the number of iterations. Duality gap: 42.42102091022984, tolerance: 0.18286414408055196\n",
      "  positive)\n",
      "C:\\Users\\joepo\\Anaconda3\\lib\\site-packages\\sklearn\\linear_model\\coordinate_descent.py:475: ConvergenceWarning: Objective did not converge. You might want to increase the number of iterations. Duality gap: 43.557426172267206, tolerance: 0.19096986194104162\n",
      "  positive)\n",
      "C:\\Users\\joepo\\Anaconda3\\lib\\site-packages\\sklearn\\linear_model\\coordinate_descent.py:475: ConvergenceWarning: Objective did not converge. You might want to increase the number of iterations. Duality gap: 38.798930468467894, tolerance: 0.1625647600549571\n",
      "  positive)\n",
      "C:\\Users\\joepo\\Anaconda3\\lib\\site-packages\\sklearn\\linear_model\\coordinate_descent.py:475: ConvergenceWarning: Objective did not converge. You might want to increase the number of iterations. Duality gap: 44.443653007255655, tolerance: 0.19320369713617133\n",
      "  positive)\n",
      "C:\\Users\\joepo\\Anaconda3\\lib\\site-packages\\sklearn\\linear_model\\coordinate_descent.py:475: ConvergenceWarning: Objective did not converge. You might want to increase the number of iterations. Duality gap: 45.15028893959244, tolerance: 0.12531217379019594\n",
      "  positive)\n",
      "C:\\Users\\joepo\\Anaconda3\\lib\\site-packages\\sklearn\\linear_model\\coordinate_descent.py:475: ConvergenceWarning: Objective did not converge. You might want to increase the number of iterations. Duality gap: 46.09739035003208, tolerance: 0.18486198808246898\n",
      "  positive)\n",
      "C:\\Users\\joepo\\Anaconda3\\lib\\site-packages\\sklearn\\linear_model\\coordinate_descent.py:475: ConvergenceWarning: Objective did not converge. You might want to increase the number of iterations. Duality gap: 43.48205406805892, tolerance: 0.17258136729624773\n",
      "  positive)\n",
      "C:\\Users\\joepo\\Anaconda3\\lib\\site-packages\\sklearn\\linear_model\\coordinate_descent.py:475: ConvergenceWarning: Objective did not converge. You might want to increase the number of iterations. Duality gap: 43.94235535494989, tolerance: 0.1962047966790703\n",
      "  positive)\n",
      "C:\\Users\\joepo\\Anaconda3\\lib\\site-packages\\sklearn\\linear_model\\coordinate_descent.py:475: ConvergenceWarning: Objective did not converge. You might want to increase the number of iterations. Duality gap: 43.48843043148558, tolerance: 0.18678003276143887\n",
      "  positive)\n",
      "C:\\Users\\joepo\\Anaconda3\\lib\\site-packages\\sklearn\\linear_model\\coordinate_descent.py:475: ConvergenceWarning: Objective did not converge. You might want to increase the number of iterations. Duality gap: 46.12252785564577, tolerance: 0.19572174276150142\n",
      "  positive)\n",
      "C:\\Users\\joepo\\Anaconda3\\lib\\site-packages\\sklearn\\linear_model\\coordinate_descent.py:475: ConvergenceWarning: Objective did not converge. You might want to increase the number of iterations. Duality gap: 42.420483158355914, tolerance: 0.18286414408055196\n",
      "  positive)\n",
      "C:\\Users\\joepo\\Anaconda3\\lib\\site-packages\\sklearn\\linear_model\\coordinate_descent.py:475: ConvergenceWarning: Objective did not converge. You might want to increase the number of iterations. Duality gap: 43.557707778462564, tolerance: 0.19096986194104162\n",
      "  positive)\n",
      "C:\\Users\\joepo\\Anaconda3\\lib\\site-packages\\sklearn\\linear_model\\coordinate_descent.py:475: ConvergenceWarning: Objective did not converge. You might want to increase the number of iterations. Duality gap: 38.81116133361779, tolerance: 0.1625647600549571\n",
      "  positive)\n",
      "C:\\Users\\joepo\\Anaconda3\\lib\\site-packages\\sklearn\\linear_model\\coordinate_descent.py:475: ConvergenceWarning: Objective did not converge. You might want to increase the number of iterations. Duality gap: 44.4322513345846, tolerance: 0.19320369713617133\n",
      "  positive)\n"
     ]
    },
    {
     "name": "stderr",
     "output_type": "stream",
     "text": [
      "C:\\Users\\joepo\\Anaconda3\\lib\\site-packages\\sklearn\\linear_model\\coordinate_descent.py:475: ConvergenceWarning: Objective did not converge. You might want to increase the number of iterations. Duality gap: 45.105578731050244, tolerance: 0.12531217379019594\n",
      "  positive)\n",
      "C:\\Users\\joepo\\Anaconda3\\lib\\site-packages\\sklearn\\linear_model\\coordinate_descent.py:475: ConvergenceWarning: Objective did not converge. You might want to increase the number of iterations. Duality gap: 46.109409027862164, tolerance: 0.18486198808246898\n",
      "  positive)\n",
      "C:\\Users\\joepo\\Anaconda3\\lib\\site-packages\\sklearn\\linear_model\\coordinate_descent.py:475: ConvergenceWarning: Objective did not converge. You might want to increase the number of iterations. Duality gap: 43.49358213186664, tolerance: 0.17258136729624773\n",
      "  positive)\n",
      "C:\\Users\\joepo\\Anaconda3\\lib\\site-packages\\sklearn\\linear_model\\coordinate_descent.py:475: ConvergenceWarning: Objective did not converge. You might want to increase the number of iterations. Duality gap: 43.95054196397975, tolerance: 0.1962047966790703\n",
      "  positive)\n",
      "C:\\Users\\joepo\\Anaconda3\\lib\\site-packages\\sklearn\\linear_model\\coordinate_descent.py:475: ConvergenceWarning: Objective did not converge. You might want to increase the number of iterations. Duality gap: 43.49710948450092, tolerance: 0.18678003276143887\n",
      "  positive)\n",
      "C:\\Users\\joepo\\Anaconda3\\lib\\site-packages\\sklearn\\linear_model\\coordinate_descent.py:475: ConvergenceWarning: Objective did not converge. You might want to increase the number of iterations. Duality gap: 46.132806090355906, tolerance: 0.19572174276150142\n",
      "  positive)\n",
      "C:\\Users\\joepo\\Anaconda3\\lib\\site-packages\\sklearn\\linear_model\\coordinate_descent.py:475: ConvergenceWarning: Objective did not converge. You might want to increase the number of iterations. Duality gap: 42.41533329960634, tolerance: 0.18286414408055196\n",
      "  positive)\n",
      "C:\\Users\\joepo\\Anaconda3\\lib\\site-packages\\sklearn\\linear_model\\coordinate_descent.py:475: ConvergenceWarning: Objective did not converge. You might want to increase the number of iterations. Duality gap: 43.55986609283306, tolerance: 0.19096986194104162\n",
      "  positive)\n",
      "C:\\Users\\joepo\\Anaconda3\\lib\\site-packages\\sklearn\\linear_model\\coordinate_descent.py:475: ConvergenceWarning: Objective did not converge. You might want to increase the number of iterations. Duality gap: 38.91256697946339, tolerance: 0.1625647600549571\n",
      "  positive)\n",
      "C:\\Users\\joepo\\Anaconda3\\lib\\site-packages\\sklearn\\linear_model\\coordinate_descent.py:475: ConvergenceWarning: Objective did not converge. You might want to increase the number of iterations. Duality gap: 44.24643253674123, tolerance: 0.19320369713617133\n",
      "  positive)\n",
      "C:\\Users\\joepo\\Anaconda3\\lib\\site-packages\\sklearn\\linear_model\\coordinate_descent.py:475: ConvergenceWarning: Objective did not converge. You might want to increase the number of iterations. Duality gap: 44.617596546774884, tolerance: 0.12531217379019594\n",
      "  positive)\n",
      "C:\\Users\\joepo\\Anaconda3\\lib\\site-packages\\sklearn\\linear_model\\coordinate_descent.py:475: ConvergenceWarning: Objective did not converge. You might want to increase the number of iterations. Duality gap: 46.20496491542478, tolerance: 0.18486198808246898\n",
      "  positive)\n",
      "C:\\Users\\joepo\\Anaconda3\\lib\\site-packages\\sklearn\\linear_model\\coordinate_descent.py:475: ConvergenceWarning: Objective did not converge. You might want to increase the number of iterations. Duality gap: 43.58446608104855, tolerance: 0.17258136729624773\n",
      "  positive)\n",
      "C:\\Users\\joepo\\Anaconda3\\lib\\site-packages\\sklearn\\linear_model\\coordinate_descent.py:475: ConvergenceWarning: Objective did not converge. You might want to increase the number of iterations. Duality gap: 44.001817616541594, tolerance: 0.1962047966790703\n",
      "  positive)\n",
      "C:\\Users\\joepo\\Anaconda3\\lib\\site-packages\\sklearn\\linear_model\\coordinate_descent.py:475: ConvergenceWarning: Objective did not converge. You might want to increase the number of iterations. Duality gap: 43.56625011523755, tolerance: 0.18678003276143887\n",
      "  positive)\n",
      "C:\\Users\\joepo\\Anaconda3\\lib\\site-packages\\sklearn\\linear_model\\coordinate_descent.py:475: ConvergenceWarning: Objective did not converge. You might want to increase the number of iterations. Duality gap: 46.208682238675244, tolerance: 0.19572174276150142\n",
      "  positive)\n",
      "C:\\Users\\joepo\\Anaconda3\\lib\\site-packages\\sklearn\\linear_model\\coordinate_descent.py:475: ConvergenceWarning: Objective did not converge. You might want to increase the number of iterations. Duality gap: 42.33111282716877, tolerance: 0.18286414408055196\n",
      "  positive)\n",
      "C:\\Users\\joepo\\Anaconda3\\lib\\site-packages\\sklearn\\linear_model\\coordinate_descent.py:475: ConvergenceWarning: Objective did not converge. You might want to increase the number of iterations. Duality gap: 43.54139430111614, tolerance: 0.19096986194104162\n",
      "  positive)\n",
      "C:\\Users\\joepo\\Anaconda3\\lib\\site-packages\\sklearn\\linear_model\\coordinate_descent.py:475: ConvergenceWarning: Objective did not converge. You might want to increase the number of iterations. Duality gap: 34.91899268780692, tolerance: 0.1625647600549571\n",
      "  positive)\n",
      "C:\\Users\\joepo\\Anaconda3\\lib\\site-packages\\sklearn\\linear_model\\coordinate_descent.py:475: ConvergenceWarning: Objective did not converge. You might want to increase the number of iterations. Duality gap: 39.89666480563831, tolerance: 0.19320369713617133\n",
      "  positive)\n",
      "C:\\Users\\joepo\\Anaconda3\\lib\\site-packages\\sklearn\\linear_model\\coordinate_descent.py:475: ConvergenceWarning: Objective did not converge. You might want to increase the number of iterations. Duality gap: 30.25600682794244, tolerance: 0.12531217379019594\n",
      "  positive)\n",
      "C:\\Users\\joepo\\Anaconda3\\lib\\site-packages\\sklearn\\linear_model\\coordinate_descent.py:475: ConvergenceWarning: Objective did not converge. You might want to increase the number of iterations. Duality gap: 42.94920358519293, tolerance: 0.18486198808246898\n",
      "  positive)\n",
      "C:\\Users\\joepo\\Anaconda3\\lib\\site-packages\\sklearn\\linear_model\\coordinate_descent.py:475: ConvergenceWarning: Objective did not converge. You might want to increase the number of iterations. Duality gap: 42.04341569968866, tolerance: 0.17258136729624773\n",
      "  positive)\n",
      "C:\\Users\\joepo\\Anaconda3\\lib\\site-packages\\sklearn\\linear_model\\coordinate_descent.py:475: ConvergenceWarning: Objective did not converge. You might want to increase the number of iterations. Duality gap: 38.41365584134622, tolerance: 0.1962047966790703\n",
      "  positive)\n",
      "C:\\Users\\joepo\\Anaconda3\\lib\\site-packages\\sklearn\\linear_model\\coordinate_descent.py:475: ConvergenceWarning: Objective did not converge. You might want to increase the number of iterations. Duality gap: 41.11834378649724, tolerance: 0.18678003276143887\n",
      "  positive)\n",
      "C:\\Users\\joepo\\Anaconda3\\lib\\site-packages\\sklearn\\linear_model\\coordinate_descent.py:475: ConvergenceWarning: Objective did not converge. You might want to increase the number of iterations. Duality gap: 41.41062860306995, tolerance: 0.19572174276150142\n",
      "  positive)\n",
      "C:\\Users\\joepo\\Anaconda3\\lib\\site-packages\\sklearn\\linear_model\\coordinate_descent.py:475: ConvergenceWarning: Objective did not converge. You might want to increase the number of iterations. Duality gap: 35.235758710447136, tolerance: 0.18286414408055196\n",
      "  positive)\n",
      "C:\\Users\\joepo\\Anaconda3\\lib\\site-packages\\sklearn\\linear_model\\coordinate_descent.py:475: ConvergenceWarning: Objective did not converge. You might want to increase the number of iterations. Duality gap: 38.82047941180809, tolerance: 0.19096986194104162\n",
      "  positive)\n",
      "C:\\Users\\joepo\\Anaconda3\\lib\\site-packages\\sklearn\\linear_model\\coordinate_descent.py:475: ConvergenceWarning: Objective did not converge. You might want to increase the number of iterations. Duality gap: 11.66099938822638, tolerance: 0.1625647600549571\n",
      "  positive)\n",
      "C:\\Users\\joepo\\Anaconda3\\lib\\site-packages\\sklearn\\linear_model\\coordinate_descent.py:475: ConvergenceWarning: Objective did not converge. You might want to increase the number of iterations. Duality gap: 10.884369203434957, tolerance: 0.19320369713617133\n",
      "  positive)\n",
      "C:\\Users\\joepo\\Anaconda3\\lib\\site-packages\\sklearn\\linear_model\\coordinate_descent.py:475: ConvergenceWarning: Objective did not converge. You might want to increase the number of iterations. Duality gap: 22.201234944121737, tolerance: 0.12531217379019594\n",
      "  positive)\n",
      "C:\\Users\\joepo\\Anaconda3\\lib\\site-packages\\sklearn\\linear_model\\coordinate_descent.py:475: ConvergenceWarning: Objective did not converge. You might want to increase the number of iterations. Duality gap: 8.595709927968002, tolerance: 0.17258136729624773\n",
      "  positive)\n",
      "C:\\Users\\joepo\\Anaconda3\\lib\\site-packages\\sklearn\\linear_model\\coordinate_descent.py:475: ConvergenceWarning: Objective did not converge. You might want to increase the number of iterations. Duality gap: 7.41448856571246, tolerance: 0.1962047966790703\n",
      "  positive)\n",
      "C:\\Users\\joepo\\Anaconda3\\lib\\site-packages\\sklearn\\linear_model\\coordinate_descent.py:475: ConvergenceWarning: Objective did not converge. You might want to increase the number of iterations. Duality gap: 8.636412164335695, tolerance: 0.18678003276143887\n",
      "  positive)\n",
      "C:\\Users\\joepo\\Anaconda3\\lib\\site-packages\\sklearn\\linear_model\\coordinate_descent.py:475: ConvergenceWarning: Objective did not converge. You might want to increase the number of iterations. Duality gap: 5.681340800162872, tolerance: 0.19572174276150142\n",
      "  positive)\n",
      "C:\\Users\\joepo\\Anaconda3\\lib\\site-packages\\sklearn\\linear_model\\coordinate_descent.py:475: ConvergenceWarning: Objective did not converge. You might want to increase the number of iterations. Duality gap: 14.440628048468817, tolerance: 0.19096986194104162\n",
      "  positive)\n",
      "C:\\Users\\joepo\\Anaconda3\\lib\\site-packages\\sklearn\\linear_model\\coordinate_descent.py:475: ConvergenceWarning: Objective did not converge. You might want to increase the number of iterations. Duality gap: 0.4089724088096318, tolerance: 0.19320369713617133\n",
      "  positive)\n",
      "C:\\Users\\joepo\\Anaconda3\\lib\\site-packages\\sklearn\\linear_model\\coordinate_descent.py:475: ConvergenceWarning: Objective did not converge. You might want to increase the number of iterations. Duality gap: 24.786246197255522, tolerance: 0.18486198808246898\n",
      "  positive)\n",
      "C:\\Users\\joepo\\Anaconda3\\lib\\site-packages\\sklearn\\linear_model\\coordinate_descent.py:475: ConvergenceWarning: Objective did not converge. You might want to increase the number of iterations. Duality gap: 0.6799904709029647, tolerance: 0.1962047966790703\n",
      "  positive)\n",
      "C:\\Users\\joepo\\Anaconda3\\lib\\site-packages\\sklearn\\linear_model\\coordinate_descent.py:475: ConvergenceWarning: Objective did not converge. You might want to increase the number of iterations. Duality gap: 0.5376161539977886, tolerance: 0.19572174276150142\n",
      "  positive)\n",
      "C:\\Users\\joepo\\Anaconda3\\lib\\site-packages\\sklearn\\linear_model\\coordinate_descent.py:475: ConvergenceWarning: Objective did not converge. You might want to increase the number of iterations. Duality gap: 0.4017325785765422, tolerance: 0.19096986194104162\n",
      "  positive)\n"
     ]
    }
   ],
   "source": [
    "from sklearn.linear_model import Lasso\n",
    "from sklearn.model_selection import GridSearchCV as gscv\n",
    "from sklearn.model_selection import cross_val_score\n",
    "\n",
    "\n",
    "x = df.drop(columns = ['error', 'Y'])\n",
    "y = df['Y']\n",
    "lambdas = [1e-20, 1e-15, 1e-10, .00001, .0001, .001, .01, .1, 1, 5]\n",
    "score_dict = {}\n",
    "for alpha in lambdas:\n",
    "    lasso = Lasso(alpha = alpha)\n",
    "    scores = cross_val_score(lasso, x, y, scoring = 'neg_mean_squared_error', cv=10)\n",
    "    score_dict[alpha] = (scores.mean(), scores.std())"
   ]
  },
  {
   "cell_type": "code",
   "execution_count": 27,
   "metadata": {},
   "outputs": [
    {
     "data": {
      "image/png": "[encoded data removed]",
      "text/plain": [
       "<Figure size 432x288 with 1 Axes>"
      ]
     },
     "metadata": {
      "needs_background": "light"
     },
     "output_type": "display_data"
    }
   ],
   "source": [
    "scoreDF = pd.DataFrame.from_dict(score_dict, orient='index', columns = ['Mean', 'Std'])\n",
    "scoreDF.reset_index(inplace=True)\n",
    "scoreDF.rename(columns={'index':'lambda'}, inplace=True)\n",
    "scoreDF['Log'] = np.log(scoreDF['lambda'])\n",
    "scoreDF['Mean'] = scoreDF['Mean'].apply(lambda x: x*-1)\n",
    "scoreDF.plot(x='Log', y='Mean', kind='scatter');"
   ]
  },
  {
   "cell_type": "code",
   "execution_count": 28,
   "metadata": {},
   "outputs": [
    {
     "name": "stderr",
     "output_type": "stream",
     "text": [
      "C:\\Users\\joepo\\Anaconda3\\lib\\site-packages\\sklearn\\linear_model\\coordinate_descent.py:475: ConvergenceWarning: Objective did not converge. You might want to increase the number of iterations. Duality gap: 48.978041392685185, tolerance: 0.1992748843178194\n",
      "  positive)\n"
     ]
    },
    {
     "data": {
      "text/plain": [
       "[-0.03573039198900109,\n",
       " -0.7832556523336743,\n",
       " 2.043446447655669,\n",
       " 0.3202593567440675,\n",
       " -0.2053968103872179,\n",
       " -0.04369417413855734,\n",
       " -0.005900438241495714,\n",
       " -0.002538286028620221,\n",
       " 0.003286277398447138,\n",
       " 0.0007630924101340264]"
      ]
     },
     "execution_count": 28,
     "metadata": {},
     "output_type": "execute_result"
    }
   ],
   "source": [
    "best = scoreDF['Mean'].min()\n",
    "bestLambda = scoreDF[scoreDF['Mean'] == best]['lambda'].values[0]\n",
    "lasso = Lasso(alpha = bestLambda)\n",
    "lasso.fit(x, y)\n",
    "list(lasso.coef_)"
   ]
  },
  {
   "cell_type": "markdown",
   "metadata": {},
   "source": [
    "These coefficients aren't anything close to the actual coefficients.  The lasso seemed to be best as lambda approached 0 (normal linear regression), which shouldn't be the case."
   ]
  },
  {
   "cell_type": "markdown",
   "metadata": {},
   "source": [
    "f) Now generate a response vector Y according to Y = B0 + B7X^7 + error and perform best subset selection and the lasso.  Discuss results"
   ]
  },
  {
   "cell_type": "code",
   "execution_count": 29,
   "metadata": {},
   "outputs": [],
   "source": [
    "df2 = df.copy()\n",
    "b7 = 2.5\n",
    "df2['Y'] = df.apply(lambda row: b0 + b7*row['X7'] + row['error'], axis=1)"
   ]
  },
  {
   "cell_type": "markdown",
   "metadata": {},
   "source": [
    "Best Subset"
   ]
  },
  {
   "cell_type": "code",
   "execution_count": 30,
   "metadata": {},
   "outputs": [
    {
     "name": "stderr",
     "output_type": "stream",
     "text": [
      "C:\\Users\\joepo\\Anaconda3\\lib\\site-packages\\numpy\\core\\fromnumeric.py:2389: FutureWarning: Method .ptp is deprecated and will be removed in a future version. Use numpy.ptp instead.\n",
      "  return ptp(axis=axis, out=out, **kwargs)\n"
     ]
    }
   ],
   "source": [
    "Y = df2['Y']\n",
    "X = df2.drop(columns = ['error', 'Y'], axis=1)\n",
    "k = X.shape[1]\n",
    "\n",
    "BIC_data = []\n",
    "R2_data = []\n",
    "features = []\n",
    "numb_features = []\n",
    "\n",
    "for i in range(1, k + 1):\n",
    "    for combo in itertools.combinations(X.columns, i):\n",
    "        mod = model_fit(X[list(combo)], Y)\n",
    "        BIC_data.append(mod[0])\n",
    "        R2_data.append(mod[1])\n",
    "        features.append(list(combo))\n",
    "        numb_features.append(i)\n",
    "        \n",
    "bestSubset = pd.DataFrame({'BIC':BIC_data, 'R2':R2_data, 'Feats':features, '#':numb_features})"
   ]
  },
  {
   "cell_type": "code",
   "execution_count": 31,
   "metadata": {},
   "outputs": [],
   "source": [
    "best_bic = bestSubset.groupby('#')['BIC'].min()\n",
    "best_r2 = bestSubset.groupby('#')['R2'].max()\n",
    "\n",
    "avg_bic = bestSubset.groupby('#')['BIC'].mean()\n",
    "avg_r2 = bestSubset.groupby('#')['R2'].mean()"
   ]
  },
  {
   "cell_type": "code",
   "execution_count": 32,
   "metadata": {},
   "outputs": [
    {
     "data": {
      "image/png": "[encoded data removed]",
      "text/plain": [
       "<Figure size 720x432 with 2 Axes>"
      ]
     },
     "metadata": {
      "needs_background": "light"
     },
     "output_type": "display_data"
    }
   ],
   "source": [
    "import seaborn as sns\n",
    "import matplotlib.pyplot as plt\n",
    "\n",
    "fig = plt.figure(figsize = (10, 6))\n",
    "\n",
    "ax1 = fig.add_subplot(1, 2, 1)\n",
    "ax1.set_title('Best BIC')\n",
    "best_bic.plot();\n",
    "\n",
    "ax2 = fig.add_subplot(1, 2, 2)\n",
    "ax2.set_title('Best Adjusted R^2')\n",
    "best_r2.plot();"
   ]
  },
  {
   "cell_type": "code",
   "execution_count": 33,
   "metadata": {},
   "outputs": [
    {
     "data": {
      "text/plain": [
       "[['X7']]"
      ]
     },
     "execution_count": 33,
     "metadata": {},
     "output_type": "execute_result"
    }
   ],
   "source": [
    "bestGrouped = bestSubset[bestSubset.groupby('#')['BIC'].transform(min) == bestSubset['BIC']]\n",
    "bestCols = bestGrouped.loc[bestGrouped['#'] == 1]\n",
    "x_cols = list(bestCols['Feats'])\n",
    "x_cols"
   ]
  },
  {
   "cell_type": "code",
   "execution_count": 34,
   "metadata": {},
   "outputs": [
    {
     "name": "stderr",
     "output_type": "stream",
     "text": [
      "C:\\Users\\joepo\\Anaconda3\\lib\\site-packages\\numpy\\core\\fromnumeric.py:2389: FutureWarning: Method .ptp is deprecated and will be removed in a future version. Use numpy.ptp instead.\n",
      "  return ptp(axis=axis, out=out, **kwargs)\n"
     ]
    },
    {
     "data": {
      "text/plain": [
       "const    1.482050\n",
       "X7       2.499915\n",
       "dtype: float64"
      ]
     },
     "execution_count": 34,
     "metadata": {},
     "output_type": "execute_result"
    }
   ],
   "source": [
    "x_data = df2[x_cols[0]]\n",
    "y_data = df2['Y']\n",
    "model = sm.OLS(y_data, sm.add_constant(x_data)).fit()\n",
    "model.params"
   ]
  },
  {
   "cell_type": "code",
   "execution_count": 35,
   "metadata": {},
   "outputs": [
    {
     "data": {
      "text/plain": [
       "[['X', 'X2', 'X4', 'X6', 'X8', 'X10']]"
      ]
     },
     "execution_count": 35,
     "metadata": {},
     "output_type": "execute_result"
    }
   ],
   "source": [
    "bestGrouped = bestSubset[bestSubset.groupby('#')['R2'].transform(min) == bestSubset['R2']]\n",
    "bestCols = bestGrouped.loc[bestGrouped['#'] == 6]\n",
    "x_cols = list(bestCols['Feats'])\n",
    "x_cols"
   ]
  },
  {
   "cell_type": "markdown",
   "metadata": {},
   "source": [
    "Almost exactly what the estimated coefficient was.  Interestingly, the best using adjusted r-squared does not include the explanatory variable"
   ]
  },
  {
   "cell_type": "markdown",
   "metadata": {},
   "source": [
    "***\n",
    "Lasso"
   ]
  },
  {
   "cell_type": "code",
   "execution_count": 36,
   "metadata": {},
   "outputs": [
    {
     "name": "stdout",
     "output_type": "stream",
     "text": [
      "{'alpha': 0.01}\n",
      "-44.947516411665156\n"
     ]
    }
   ],
   "source": [
    "from sklearn.linear_model import Lasso\n",
    "from sklearn.model_selection import GridSearchCV as gscv\n",
    "from sklearn.model_selection import cross_val_score\n",
    "\n",
    "\n",
    "x = df2.drop(columns = ['error', 'Y'])\n",
    "y = df2['Y']\n",
    "lasso = Lasso()\n",
    "parameters = {'alpha':[1e-20, 1e-15, 1e-10, .00001, .0001, .001, .01, .1, 1, 5]}\n",
    "lasso_regressor = gscv(lasso, parameters, scoring='neg_mean_squared_error', cv=5)\n",
    "lasso_regressor.fit(x, y)\n",
    "print(lasso_regressor.best_params_)\n",
    "print(lasso_regressor.best_score_)"
   ]
  },
  {
   "cell_type": "code",
   "execution_count": 37,
   "metadata": {},
   "outputs": [
    {
     "data": {
      "text/plain": [
       "[2.018706918672408,\n",
       " -2.5079469838045223,\n",
       " -6.479325081614762,\n",
       " 2.378695623086458,\n",
       " 5.178688675390131,\n",
       " -0.6141909855572703,\n",
       " 1.0614225756582887,\n",
       " -0.0011466160442400485,\n",
       " 0.12769437312223936,\n",
       " 0.010015991689610567]"
      ]
     },
     "execution_count": 37,
     "metadata": {},
     "output_type": "execute_result"
    }
   ],
   "source": [
    "lasso = Lasso(alpha = lasso_regressor.best_params_['alpha'])\n",
    "lasso.fit(x, y)\n",
    "list(lasso.coef_)"
   ]
  },
  {
   "cell_type": "markdown",
   "metadata": {},
   "source": [
    "Again, these results are not anywhere close to what they should be.  Likely doing lasso incorrectly here?"
   ]
  },
  {
   "cell_type": "markdown",
   "metadata": {},
   "source": [
    "#### 9)  We will predict the number of applicatoins received using the other variables in the college data set\n",
    "\n",
    "a) Split the data set into a training and testing set"
   ]
  },
  {
   "cell_type": "code",
   "execution_count": 38,
   "metadata": {},
   "outputs": [],
   "source": [
    "import pandas as pd\n",
    "import os\n",
    "\n",
    "path = os.path.join(os.getcwd(), 'College.csv')\n",
    "college = pd.read_csv(path)\n",
    "college.rename(columns={'Unnamed: 0':'College'}, inplace = True)"
   ]
  },
  {
   "cell_type": "code",
   "execution_count": 39,
   "metadata": {},
   "outputs": [],
   "source": [
    "from sklearn.model_selection import train_test_split as tts\n",
    "\n",
    "college['Private_IO'] = college['Private'].apply(lambda x: 1 if x=='Yes' else 0)\n",
    "colDrop = ['Private']\n",
    "college.drop(columns = colDrop, inplace=True)\n",
    "\n",
    "y_col = 'Apps'\n",
    "forTT = college.drop(columns = [y_col, 'College'])\n",
    "x_cols = forTT.columns\n",
    "x_train, x_test, y_train, y_test = tts(college[x_cols], college[y_col], random_state = 0)"
   ]
  },
  {
   "cell_type": "markdown",
   "metadata": {},
   "source": [
    "b) Fit a linear model using least squares on the training set, and report the test error obtained"
   ]
  },
  {
   "cell_type": "code",
   "execution_count": 40,
   "metadata": {},
   "outputs": [
    {
     "data": {
      "text/plain": [
       "1022430.0889255457"
      ]
     },
     "execution_count": 40,
     "metadata": {},
     "output_type": "execute_result"
    }
   ],
   "source": [
    "from sklearn.linear_model import LinearRegression as linreg\n",
    "from sklearn.metrics import mean_squared_error as mse\n",
    "\n",
    "model = linreg()\n",
    "model.fit(x_train, y_train)\n",
    "\n",
    "y_pred = model.predict(x_test)\n",
    "\n",
    "mse(y_test, y_pred)"
   ]
  },
  {
   "cell_type": "markdown",
   "metadata": {},
   "source": [
    "c) Fit a ridge regression model on the training set, with lambda chosen by cross-validation.  Report the test error obtained"
   ]
  },
  {
   "cell_type": "code",
   "execution_count": 41,
   "metadata": {},
   "outputs": [
    {
     "name": "stdout",
     "output_type": "stream",
     "text": [
      "{'alpha': 40}\n",
      "1498298.063694811\n"
     ]
    }
   ],
   "source": [
    "from sklearn.linear_model import Ridge\n",
    "\n",
    "ridge = Ridge()\n",
    "params = {'alpha':[30, 35, 40, 45, 50, 55, 60]}\n",
    "ridge_regressor = gscv(ridge, params, scoring = 'neg_mean_squared_error', cv=5)\n",
    "ridge_regressor.fit(x_train, y_train)\n",
    "\n",
    "print(ridge_regressor.best_params_)\n",
    "print(ridge_regressor.best_score_ * -1)"
   ]
  },
  {
   "cell_type": "code",
   "execution_count": 42,
   "metadata": {},
   "outputs": [
    {
     "data": {
      "text/plain": [
       "1017555.9270697526"
      ]
     },
     "execution_count": 42,
     "metadata": {},
     "output_type": "execute_result"
    }
   ],
   "source": [
    "model = Ridge(alpha = ridge_regressor.best_params_['alpha'])\n",
    "model.fit(x_train, y_train)\n",
    "\n",
    "y_pred = model.predict(x_test)\n",
    "mse(y_test, y_pred)"
   ]
  },
  {
   "cell_type": "markdown",
   "metadata": {},
   "source": [
    "d) Fit a lasso model on the training set, using CV to choose lambda.  Report the test error obtained and the number of non-zero coefficient estimates"
   ]
  },
  {
   "cell_type": "code",
   "execution_count": 43,
   "metadata": {},
   "outputs": [
    {
     "name": "stdout",
     "output_type": "stream",
     "text": [
      "{'alpha': 180}\n",
      "1497496.549591384\n"
     ]
    },
    {
     "name": "stderr",
     "output_type": "stream",
     "text": [
      "C:\\Users\\joepo\\Anaconda3\\lib\\site-packages\\sklearn\\model_selection\\_search.py:814: DeprecationWarning: The default of the `iid` parameter will change from True to False in version 0.22 and will be removed in 0.24. This will change numeric results when test-set sizes are unequal.\n",
      "  DeprecationWarning)\n"
     ]
    }
   ],
   "source": [
    "lasso = Lasso()\n",
    "params = {'alpha':[150, 160, 165, 170, 175, 180, 185, 190, 195, 200]}\n",
    "lasso_regressor = gscv(lasso, params, scoring = 'neg_mean_squared_error', cv=5)\n",
    "lasso_regressor.fit(x_train, y_train)\n",
    "\n",
    "print(lasso_regressor.best_params_)\n",
    "print(lasso_regressor.best_score_ * -1)"
   ]
  },
  {
   "cell_type": "code",
   "execution_count": 44,
   "metadata": {},
   "outputs": [
    {
     "data": {
      "text/plain": [
       "1019713.8097130827"
      ]
     },
     "execution_count": 44,
     "metadata": {},
     "output_type": "execute_result"
    }
   ],
   "source": [
    "model = Lasso(alpha = lasso_regressor.best_params_['alpha'])\n",
    "model.fit(x_train, y_train)\n",
    "\n",
    "y_pred = model.predict(x_test)\n",
    "mse(y_test, y_pred)"
   ]
  },
  {
   "cell_type": "code",
   "execution_count": 45,
   "metadata": {},
   "outputs": [
    {
     "data": {
      "text/plain": [
       "[1.6298424015335762,\n",
       " -1.0240542069962795,\n",
       " 51.27756631920167,\n",
       " -13.353063411600663,\n",
       " 0.08567855128586946,\n",
       " 0.058143459881948585,\n",
       " -0.10419435612206884,\n",
       " 0.1535757007611232,\n",
       " -0.011155953377862854,\n",
       " -0.01862001020990704,\n",
       " -7.696251372107008,\n",
       " -0.30574971308694227,\n",
       " 0.0,\n",
       " -0.0,\n",
       " 0.050072342084938305,\n",
       " 5.975325833094307,\n",
       " -0.0]"
      ]
     },
     "execution_count": 45,
     "metadata": {},
     "output_type": "execute_result"
    }
   ],
   "source": [
    "list(model.coef_)"
   ]
  },
  {
   "cell_type": "markdown",
   "metadata": {},
   "source": [
    "All but 3 variables are non-zero, with an additional 5 variables with a coefficient less than 0.1 (absolute value)"
   ]
  },
  {
   "cell_type": "markdown",
   "metadata": {},
   "source": [
    "f) e, but use PLS"
   ]
  },
  {
   "cell_type": "code",
   "execution_count": 46,
   "metadata": {},
   "outputs": [],
   "source": [
    "from sklearn.cross_decomposition import PLSRegression as PLS\n",
    "from sklearn.model_selection import cross_val_predict"
   ]
  },
  {
   "cell_type": "code",
   "execution_count": 47,
   "metadata": {},
   "outputs": [
    {
     "name": "stdout",
     "output_type": "stream",
     "text": [
      "{'n_components': 9}\n",
      "1502225.1394760227\n"
     ]
    },
    {
     "name": "stderr",
     "output_type": "stream",
     "text": [
      "C:\\Users\\joepo\\Anaconda3\\lib\\site-packages\\sklearn\\model_selection\\_search.py:814: DeprecationWarning: The default of the `iid` parameter will change from True to False in version 0.22 and will be removed in 0.24. This will change numeric results when test-set sizes are unequal.\n",
      "  DeprecationWarning)\n"
     ]
    }
   ],
   "source": [
    "pls = PLS()\n",
    "\n",
    "params = {'n_components':range(1, len(x_train.columns))}\n",
    "pls_regressor = gscv(pls, params, scoring = 'neg_mean_squared_error', cv=5)\n",
    "pls_regressor.fit(x_train, y_train)\n",
    "\n",
    "print(pls_regressor.best_params_)\n",
    "print(pls_regressor.best_score_ * -1)"
   ]
  },
  {
   "cell_type": "code",
   "execution_count": 48,
   "metadata": {},
   "outputs": [
    {
     "data": {
      "text/plain": [
       "1022578.3870499638"
      ]
     },
     "execution_count": 48,
     "metadata": {},
     "output_type": "execute_result"
    }
   ],
   "source": [
    "model = PLS(n_components = pls_regressor.best_params_['n_components'])\n",
    "model.fit(x_train, y_train)\n",
    "\n",
    "y_pred = model.predict(x_test)\n",
    "mse(y_test, y_pred)"
   ]
  },
  {
   "cell_type": "markdown",
   "metadata": {},
   "source": [
    "g) Comment on these 5 approaches and their accuracies"
   ]
  },
  {
   "cell_type": "markdown",
   "metadata": {},
   "source": [
    "* LogReg - 1022430\n",
    "* Ridge - 1017555\n",
    "* Lasso - 1019713\n",
    "* PCR - 1022578\n",
    "\n",
    "Ridge and lasso improved on the initial model, ridge outperforming lasso by a small margin (0.002%).  PCR was about the same, as the initial model"
   ]
  }
 ],
 "metadata": {
  "kernelspec": {
   "display_name": "Python 3",
   "language": "python",
   "name": "python3"
  },
  "language_info": {
   "codemirror_mode": {
    "name": "ipython",
    "version": 3
   },
   "file_extension": ".py",
   "mimetype": "text/x-python",
   "name": "python",
   "nbconvert_exporter": "python",
   "pygments_lexer": "ipython3",
   "version": "3.7.4"
  }
 },
 "nbformat": 4,
 "nbformat_minor": 2
}
