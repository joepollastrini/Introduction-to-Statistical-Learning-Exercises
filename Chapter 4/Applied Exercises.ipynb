{
 "cells": [
  {
   "cell_type": "markdown",
   "metadata": {},
   "source": [
    "10) This question should be answered using the weekly data set.  It contains 1089 weekly returns for 21 years from the beginning of 1990 to the end of 2010.\n",
    "\n",
    "a) Produce some numerical and graphical summaries of the weekly data.  Describe any patterns"
   ]
  },
  {
   "cell_type": "code",
   "execution_count": 1,
   "metadata": {},
   "outputs": [],
   "source": [
    "import pandas as pd\n",
    "import matplotlib.pyplot as plt\n",
    "import os\n",
    "import seaborn as sns\n",
    "from scipy import stats\n",
    "import statsmodels.api as sm"
   ]
  },
  {
   "cell_type": "code",
   "execution_count": 2,
   "metadata": {},
   "outputs": [],
   "source": [
    "direct = os.getcwd()\n",
    "weekly = pd.read_csv(os.path.join(direct, 'weekly.csv'))"
   ]
  },
  {
   "cell_type": "code",
   "execution_count": 3,
   "metadata": {},
   "outputs": [
    {
     "name": "stdout",
     "output_type": "stream",
     "text": [
      "<class 'pandas.core.frame.DataFrame'>\n",
      "RangeIndex: 1089 entries, 0 to 1088\n",
      "Data columns (total 9 columns):\n",
      "Year         1089 non-null int64\n",
      "Lag1         1089 non-null float64\n",
      "Lag2         1089 non-null float64\n",
      "Lag3         1089 non-null float64\n",
      "Lag4         1089 non-null float64\n",
      "Lag5         1089 non-null float64\n",
      "Volume       1089 non-null float64\n",
      "Today        1089 non-null float64\n",
      "Direction    1089 non-null object\n",
      "dtypes: float64(7), int64(1), object(1)\n",
      "memory usage: 76.7+ KB\n"
     ]
    }
   ],
   "source": [
    "weekly.info()"
   ]
  },
  {
   "cell_type": "code",
   "execution_count": 4,
   "metadata": {},
   "outputs": [
    {
     "data": {
      "text/html": [
       "<div>\n",
       "<style scoped>\n",
       "    .dataframe tbody tr th:only-of-type {\n",
       "        vertical-align: middle;\n",
       "    }\n",
       "\n",
       "    .dataframe tbody tr th {\n",
       "        vertical-align: top;\n",
       "    }\n",
       "\n",
       "    .dataframe thead th {\n",
       "        text-align: right;\n",
       "    }\n",
       "</style>\n",
       "<table border=\"1\" class=\"dataframe\">\n",
       "  <thead>\n",
       "    <tr style=\"text-align: right;\">\n",
       "      <th></th>\n",
       "      <th>Year</th>\n",
       "      <th>Lag1</th>\n",
       "      <th>Lag2</th>\n",
       "      <th>Lag3</th>\n",
       "      <th>Lag4</th>\n",
       "      <th>Lag5</th>\n",
       "      <th>Volume</th>\n",
       "      <th>Today</th>\n",
       "    </tr>\n",
       "  </thead>\n",
       "  <tbody>\n",
       "    <tr>\n",
       "      <td>count</td>\n",
       "      <td>1089.000000</td>\n",
       "      <td>1089.000000</td>\n",
       "      <td>1089.000000</td>\n",
       "      <td>1089.000000</td>\n",
       "      <td>1089.000000</td>\n",
       "      <td>1089.000000</td>\n",
       "      <td>1089.000000</td>\n",
       "      <td>1089.000000</td>\n",
       "    </tr>\n",
       "    <tr>\n",
       "      <td>mean</td>\n",
       "      <td>2000.048669</td>\n",
       "      <td>0.150585</td>\n",
       "      <td>0.151079</td>\n",
       "      <td>0.147205</td>\n",
       "      <td>0.145818</td>\n",
       "      <td>0.139893</td>\n",
       "      <td>1.574618</td>\n",
       "      <td>0.149899</td>\n",
       "    </tr>\n",
       "    <tr>\n",
       "      <td>std</td>\n",
       "      <td>6.033182</td>\n",
       "      <td>2.357013</td>\n",
       "      <td>2.357254</td>\n",
       "      <td>2.360502</td>\n",
       "      <td>2.360279</td>\n",
       "      <td>2.361285</td>\n",
       "      <td>1.686636</td>\n",
       "      <td>2.356927</td>\n",
       "    </tr>\n",
       "    <tr>\n",
       "      <td>min</td>\n",
       "      <td>1990.000000</td>\n",
       "      <td>-18.195000</td>\n",
       "      <td>-18.195000</td>\n",
       "      <td>-18.195000</td>\n",
       "      <td>-18.195000</td>\n",
       "      <td>-18.195000</td>\n",
       "      <td>0.087465</td>\n",
       "      <td>-18.195000</td>\n",
       "    </tr>\n",
       "    <tr>\n",
       "      <td>25%</td>\n",
       "      <td>1995.000000</td>\n",
       "      <td>-1.154000</td>\n",
       "      <td>-1.154000</td>\n",
       "      <td>-1.158000</td>\n",
       "      <td>-1.158000</td>\n",
       "      <td>-1.166000</td>\n",
       "      <td>0.332022</td>\n",
       "      <td>-1.154000</td>\n",
       "    </tr>\n",
       "    <tr>\n",
       "      <td>50%</td>\n",
       "      <td>2000.000000</td>\n",
       "      <td>0.241000</td>\n",
       "      <td>0.241000</td>\n",
       "      <td>0.241000</td>\n",
       "      <td>0.238000</td>\n",
       "      <td>0.234000</td>\n",
       "      <td>1.002680</td>\n",
       "      <td>0.241000</td>\n",
       "    </tr>\n",
       "    <tr>\n",
       "      <td>75%</td>\n",
       "      <td>2005.000000</td>\n",
       "      <td>1.405000</td>\n",
       "      <td>1.409000</td>\n",
       "      <td>1.409000</td>\n",
       "      <td>1.409000</td>\n",
       "      <td>1.405000</td>\n",
       "      <td>2.053727</td>\n",
       "      <td>1.405000</td>\n",
       "    </tr>\n",
       "    <tr>\n",
       "      <td>max</td>\n",
       "      <td>2010.000000</td>\n",
       "      <td>12.026000</td>\n",
       "      <td>12.026000</td>\n",
       "      <td>12.026000</td>\n",
       "      <td>12.026000</td>\n",
       "      <td>12.026000</td>\n",
       "      <td>9.328214</td>\n",
       "      <td>12.026000</td>\n",
       "    </tr>\n",
       "  </tbody>\n",
       "</table>\n",
       "</div>"
      ],
      "text/plain": [
       "              Year         Lag1         Lag2         Lag3         Lag4  \\\n",
       "count  1089.000000  1089.000000  1089.000000  1089.000000  1089.000000   \n",
       "mean   2000.048669     0.150585     0.151079     0.147205     0.145818   \n",
       "std       6.033182     2.357013     2.357254     2.360502     2.360279   \n",
       "min    1990.000000   -18.195000   -18.195000   -18.195000   -18.195000   \n",
       "25%    1995.000000    -1.154000    -1.154000    -1.158000    -1.158000   \n",
       "50%    2000.000000     0.241000     0.241000     0.241000     0.238000   \n",
       "75%    2005.000000     1.405000     1.409000     1.409000     1.409000   \n",
       "max    2010.000000    12.026000    12.026000    12.026000    12.026000   \n",
       "\n",
       "              Lag5       Volume        Today  \n",
       "count  1089.000000  1089.000000  1089.000000  \n",
       "mean      0.139893     1.574618     0.149899  \n",
       "std       2.361285     1.686636     2.356927  \n",
       "min     -18.195000     0.087465   -18.195000  \n",
       "25%      -1.166000     0.332022    -1.154000  \n",
       "50%       0.234000     1.002680     0.241000  \n",
       "75%       1.405000     2.053727     1.405000  \n",
       "max      12.026000     9.328214    12.026000  "
      ]
     },
     "execution_count": 4,
     "metadata": {},
     "output_type": "execute_result"
    }
   ],
   "source": [
    "weekly.describe()"
   ]
  },
  {
   "cell_type": "markdown",
   "metadata": {},
   "source": [
    "Standard Deviations are similar for the lags and today.  The values for lags and today are all the same, with the exception of the beginning and end (up to 5 rows max)."
   ]
  },
  {
   "cell_type": "code",
   "execution_count": 5,
   "metadata": {},
   "outputs": [
    {
     "data": {
      "image/png": "[encoded data removed]",
      "text/plain": [
       "<Figure size 720x288 with 2 Axes>"
      ]
     },
     "metadata": {
      "needs_background": "light"
     },
     "output_type": "display_data"
    }
   ],
   "source": [
    "fig = plt.figure(figsize=(10,4))\n",
    "ax1 = fig.add_subplot(1,2,1)\n",
    "sns.boxplot(x=weekly['Today']);\n",
    "\n",
    "ax2 = fig.add_subplot(1,2,2)\n",
    "sns.distplot(weekly['Today'], kde=False, bins=40, fit=stats.norm);"
   ]
  },
  {
   "cell_type": "code",
   "execution_count": 6,
   "metadata": {},
   "outputs": [
    {
     "data": {
      "image/png": "[encoded data removed]",
      "text/plain": [
       "<Figure size 432x288 with 1 Axes>"
      ]
     },
     "metadata": {
      "needs_background": "light"
     },
     "output_type": "display_data"
    }
   ],
   "source": [
    "sns.boxplot(x=weekly['Lag2'], y=weekly['Direction']);"
   ]
  },
  {
   "cell_type": "markdown",
   "metadata": {},
   "source": [
    "Distribution is not quite normal, but close, has many outliers, high and low.  No discernible pattern between up or down."
   ]
  },
  {
   "cell_type": "code",
   "execution_count": 7,
   "metadata": {},
   "outputs": [
    {
     "data": {
      "image/png": "[encoded data removed]",
      "text/plain": [
       "<Figure size 720x288 with 2 Axes>"
      ]
     },
     "metadata": {
      "needs_background": "light"
     },
     "output_type": "display_data"
    }
   ],
   "source": [
    "fig = plt.figure(figsize=(10,4))\n",
    "ax1 = fig.add_subplot(1,2,1)\n",
    "sns.boxplot(x=weekly['Volume']);\n",
    "\n",
    "ax2 = fig.add_subplot(1,2,2)\n",
    "sns.distplot(weekly['Volume'], kde=False, bins=40, fit=stats.norm);"
   ]
  },
  {
   "cell_type": "code",
   "execution_count": 8,
   "metadata": {},
   "outputs": [
    {
     "data": {
      "image/png": "[encoded data removed]",
      "text/plain": [
       "<Figure size 432x288 with 1 Axes>"
      ]
     },
     "metadata": {
      "needs_background": "light"
     },
     "output_type": "display_data"
    }
   ],
   "source": [
    "sns.boxplot(x=weekly['Volume'], y=weekly['Direction']);"
   ]
  },
  {
   "cell_type": "markdown",
   "metadata": {},
   "source": [
    "Distribution not normal, skewed, outliers to the high side.  No discernible pattern between up or down."
   ]
  },
  {
   "cell_type": "code",
   "execution_count": 9,
   "metadata": {},
   "outputs": [
    {
     "data": {
      "image/png": "[encoded data removed]",
      "text/plain": [
       "<Figure size 864x576 with 64 Axes>"
      ]
     },
     "metadata": {
      "needs_background": "light"
     },
     "output_type": "display_data"
    }
   ],
   "source": [
    "pd.plotting.scatter_matrix(weekly, figsize=(12,8));"
   ]
  },
  {
   "cell_type": "markdown",
   "metadata": {},
   "source": [
    "Volume has increased, exponentially, over time, and larger standard deviation in more recent times.  No discernible pattern with any other variables."
   ]
  },
  {
   "cell_type": "code",
   "execution_count": 10,
   "metadata": {},
   "outputs": [
    {
     "data": {
      "text/html": [
       "<div>\n",
       "<style scoped>\n",
       "    .dataframe tbody tr th:only-of-type {\n",
       "        vertical-align: middle;\n",
       "    }\n",
       "\n",
       "    .dataframe tbody tr th {\n",
       "        vertical-align: top;\n",
       "    }\n",
       "\n",
       "    .dataframe thead th {\n",
       "        text-align: right;\n",
       "    }\n",
       "</style>\n",
       "<table border=\"1\" class=\"dataframe\">\n",
       "  <thead>\n",
       "    <tr style=\"text-align: right;\">\n",
       "      <th></th>\n",
       "      <th>Lag1</th>\n",
       "      <th>Lag2</th>\n",
       "      <th>Lag3</th>\n",
       "      <th>Lag4</th>\n",
       "      <th>Lag5</th>\n",
       "      <th>Volume</th>\n",
       "      <th>Today</th>\n",
       "    </tr>\n",
       "  </thead>\n",
       "  <tbody>\n",
       "    <tr>\n",
       "      <td>Lag1</td>\n",
       "      <td>1.000000</td>\n",
       "      <td>-0.074853</td>\n",
       "      <td>0.058636</td>\n",
       "      <td>-0.071274</td>\n",
       "      <td>-0.008183</td>\n",
       "      <td>-0.064951</td>\n",
       "      <td>-0.075032</td>\n",
       "    </tr>\n",
       "    <tr>\n",
       "      <td>Lag2</td>\n",
       "      <td>-0.074853</td>\n",
       "      <td>1.000000</td>\n",
       "      <td>-0.075721</td>\n",
       "      <td>0.058382</td>\n",
       "      <td>-0.072499</td>\n",
       "      <td>-0.085513</td>\n",
       "      <td>0.059167</td>\n",
       "    </tr>\n",
       "    <tr>\n",
       "      <td>Lag3</td>\n",
       "      <td>0.058636</td>\n",
       "      <td>-0.075721</td>\n",
       "      <td>1.000000</td>\n",
       "      <td>-0.075396</td>\n",
       "      <td>0.060657</td>\n",
       "      <td>-0.069288</td>\n",
       "      <td>-0.071244</td>\n",
       "    </tr>\n",
       "    <tr>\n",
       "      <td>Lag4</td>\n",
       "      <td>-0.071274</td>\n",
       "      <td>0.058382</td>\n",
       "      <td>-0.075396</td>\n",
       "      <td>1.000000</td>\n",
       "      <td>-0.075675</td>\n",
       "      <td>-0.061075</td>\n",
       "      <td>-0.007826</td>\n",
       "    </tr>\n",
       "    <tr>\n",
       "      <td>Lag5</td>\n",
       "      <td>-0.008183</td>\n",
       "      <td>-0.072499</td>\n",
       "      <td>0.060657</td>\n",
       "      <td>-0.075675</td>\n",
       "      <td>1.000000</td>\n",
       "      <td>-0.058517</td>\n",
       "      <td>0.011013</td>\n",
       "    </tr>\n",
       "    <tr>\n",
       "      <td>Volume</td>\n",
       "      <td>-0.064951</td>\n",
       "      <td>-0.085513</td>\n",
       "      <td>-0.069288</td>\n",
       "      <td>-0.061075</td>\n",
       "      <td>-0.058517</td>\n",
       "      <td>1.000000</td>\n",
       "      <td>-0.033078</td>\n",
       "    </tr>\n",
       "    <tr>\n",
       "      <td>Today</td>\n",
       "      <td>-0.075032</td>\n",
       "      <td>0.059167</td>\n",
       "      <td>-0.071244</td>\n",
       "      <td>-0.007826</td>\n",
       "      <td>0.011013</td>\n",
       "      <td>-0.033078</td>\n",
       "      <td>1.000000</td>\n",
       "    </tr>\n",
       "  </tbody>\n",
       "</table>\n",
       "</div>"
      ],
      "text/plain": [
       "            Lag1      Lag2      Lag3      Lag4      Lag5    Volume     Today\n",
       "Lag1    1.000000 -0.074853  0.058636 -0.071274 -0.008183 -0.064951 -0.075032\n",
       "Lag2   -0.074853  1.000000 -0.075721  0.058382 -0.072499 -0.085513  0.059167\n",
       "Lag3    0.058636 -0.075721  1.000000 -0.075396  0.060657 -0.069288 -0.071244\n",
       "Lag4   -0.071274  0.058382 -0.075396  1.000000 -0.075675 -0.061075 -0.007826\n",
       "Lag5   -0.008183 -0.072499  0.060657 -0.075675  1.000000 -0.058517  0.011013\n",
       "Volume -0.064951 -0.085513 -0.069288 -0.061075 -0.058517  1.000000 -0.033078\n",
       "Today  -0.075032  0.059167 -0.071244 -0.007826  0.011013 -0.033078  1.000000"
      ]
     },
     "execution_count": 10,
     "metadata": {},
     "output_type": "execute_result"
    }
   ],
   "source": [
    "weekly.iloc[:,1:].corr()"
   ]
  },
  {
   "cell_type": "markdown",
   "metadata": {},
   "source": [
    "Very little correlation between any value variable"
   ]
  },
  {
   "cell_type": "markdown",
   "metadata": {},
   "source": [
    "b) Use the full data set to perform a logistic regression with Direction as the response and the five lag variables plus volume as predictors.  Use the summary functin to print the results.  Are any predictors significant?"
   ]
  },
  {
   "cell_type": "code",
   "execution_count": 11,
   "metadata": {},
   "outputs": [],
   "source": [
    "weekly['Direction_IO'] = weekly['Direction'].apply(lambda x: 1 if x=='Up' else 0)\n",
    "y = weekly['Direction_IO']\n",
    "x = weekly[['Lag1', 'Lag2', 'Lag3', 'Lag4', 'Lag5', 'Volume']]"
   ]
  },
  {
   "cell_type": "code",
   "execution_count": 12,
   "metadata": {},
   "outputs": [
    {
     "name": "stdout",
     "output_type": "stream",
     "text": [
      "Optimization terminated successfully.\n",
      "         Current function value: 0.682441\n",
      "         Iterations 4\n",
      "                           Logit Regression Results                           \n",
      "==============================================================================\n",
      "Dep. Variable:           Direction_IO   No. Observations:                 1089\n",
      "Model:                          Logit   Df Residuals:                     1082\n",
      "Method:                           MLE   Df Model:                            6\n",
      "Date:                Thu, 09 Jul 2020   Pseudo R-squ.:                0.006580\n",
      "Time:                        15:24:06   Log-Likelihood:                -743.18\n",
      "converged:                       True   LL-Null:                       -748.10\n",
      "Covariance Type:            nonrobust   LLR p-value:                    0.1313\n",
      "==============================================================================\n",
      "                 coef    std err          z      P>|z|      [0.025      0.975]\n",
      "------------------------------------------------------------------------------\n",
      "const          0.2669      0.086      3.106      0.002       0.098       0.435\n",
      "Lag1          -0.0413      0.026     -1.563      0.118      -0.093       0.010\n",
      "Lag2           0.0584      0.027      2.175      0.030       0.006       0.111\n",
      "Lag3          -0.0161      0.027     -0.602      0.547      -0.068       0.036\n",
      "Lag4          -0.0278      0.026     -1.050      0.294      -0.080       0.024\n",
      "Lag5          -0.0145      0.026     -0.549      0.583      -0.066       0.037\n",
      "Volume        -0.0227      0.037     -0.616      0.538      -0.095       0.050\n",
      "==============================================================================\n"
     ]
    },
    {
     "name": "stderr",
     "output_type": "stream",
     "text": [
      "C:\\Users\\joepo\\Anaconda3\\lib\\site-packages\\numpy\\core\\fromnumeric.py:2389: FutureWarning: Method .ptp is deprecated and will be removed in a future version. Use numpy.ptp instead.\n",
      "  return ptp(axis=axis, out=out, **kwargs)\n"
     ]
    }
   ],
   "source": [
    "model = sm.Logit(y, sm.add_constant(x)).fit()\n",
    "print(model.summary())"
   ]
  },
  {
   "cell_type": "markdown",
   "metadata": {},
   "source": [
    "Lag2 looks to be the only significant predictor"
   ]
  },
  {
   "cell_type": "markdown",
   "metadata": {},
   "source": [
    "c) Compute the confusion matrix and overall accuracy.  What does the confusion matrix say?"
   ]
  },
  {
   "cell_type": "code",
   "execution_count": 13,
   "metadata": {},
   "outputs": [],
   "source": [
    "preds = model.predict(sm.add_constant(x))\n",
    "probs = pd.DataFrame(preds, columns=['Probabilities'])\n",
    "probs['Predicted'] = probs['Probabilities'].apply(lambda x: 1 if x > 0.5 else 0)\n",
    "forMatrix = pd.concat((y, probs['Predicted']), axis=1)"
   ]
  },
  {
   "cell_type": "code",
   "execution_count": 14,
   "metadata": {},
   "outputs": [],
   "source": [
    "def errorType(row, var):\n",
    "    actual = row[var]\n",
    "    pred = row['Predicted']\n",
    "    if pred == 1:\n",
    "        #positive\n",
    "        if actual == pred:\n",
    "            return 'TP'\n",
    "        else:\n",
    "            return 'FP'\n",
    "    else:\n",
    "        #negative\n",
    "        if actual == pred:\n",
    "            return 'TN'\n",
    "        else:\n",
    "            return 'FN'"
   ]
  },
  {
   "cell_type": "code",
   "execution_count": 15,
   "metadata": {},
   "outputs": [
    {
     "name": "stdout",
     "output_type": "stream",
     "text": [
      "Accuracy:  56.11%\n",
      "FP rate:  39.49%\n",
      "FN rate:  4.41%\n",
      "Benchmark:  55.56%\n"
     ]
    },
    {
     "data": {
      "text/plain": [
       "TP    557\n",
       "FP    430\n",
       "TN     54\n",
       "FN     48\n",
       "Name: ERROR, dtype: int64"
      ]
     },
     "execution_count": 15,
     "metadata": {},
     "output_type": "execute_result"
    }
   ],
   "source": [
    "forMatrix['ERROR'] = forMatrix.apply(lambda x: errorType(x, 'Direction_IO'), axis=1)\n",
    "counts = forMatrix['ERROR'].value_counts()\n",
    "\n",
    "right = counts['TP'] + counts['TN']\n",
    "total = len(forMatrix)\n",
    "print('Accuracy:  {:.2f}%'.format((right/total)*100))\n",
    "print('FP rate:  {:.2f}%'.format((counts['FP']/total)*100))\n",
    "print('FN rate:  {:.2f}%'.format((counts['FN']/total)*100))\n",
    "print('Benchmark:  {:.2f}%'.format((forMatrix['Direction_IO'].sum()/total)*100))\n",
    "\n",
    "counts"
   ]
  },
  {
   "cell_type": "markdown",
   "metadata": {},
   "source": [
    "****Answer:**** This model is slightly better than assuming every day is an Up day (benchmark), but incorrectly predicts an up day a large portion of the time. (FPR).  This tells me the model might be biased toward up days."
   ]
  },
  {
   "cell_type": "markdown",
   "metadata": {},
   "source": [
    "d)  Fit the logistic model using a trianing data period from 1990 to 2008 using only Lag2 as the predictor.  Compute the confuson matrix and accuracy for the held out data."
   ]
  },
  {
   "cell_type": "code",
   "execution_count": 16,
   "metadata": {},
   "outputs": [],
   "source": [
    "train = weekly.loc[weekly['Year'] <= 2008]\n",
    "train_y = train['Direction_IO']\n",
    "train_x = train[['Lag2']]\n",
    "\n",
    "test = weekly.loc[weekly['Year'] > 2008]\n",
    "test_y = test['Direction_IO']\n",
    "test_x = test[['Lag2']]"
   ]
  },
  {
   "cell_type": "code",
   "execution_count": 17,
   "metadata": {},
   "outputs": [
    {
     "name": "stdout",
     "output_type": "stream",
     "text": [
      "Optimization terminated successfully.\n",
      "         Current function value: 0.685555\n",
      "         Iterations 4\n"
     ]
    }
   ],
   "source": [
    "model = sm.Logit(train_y, sm.add_constant(train_x)).fit()"
   ]
  },
  {
   "cell_type": "code",
   "execution_count": 18,
   "metadata": {},
   "outputs": [],
   "source": [
    "preds = model.predict(sm.add_constant(test_x))\n",
    "probs = pd.DataFrame(preds, columns=['Probabilities'])\n",
    "probs['Predicted'] = probs['Probabilities'].apply(lambda x: 1 if x > 0.5 else 0)\n",
    "forMatrix = pd.concat((test_y, probs['Predicted']), axis=1)"
   ]
  },
  {
   "cell_type": "code",
   "execution_count": 19,
   "metadata": {},
   "outputs": [
    {
     "name": "stdout",
     "output_type": "stream",
     "text": [
      "Accuracy:  62.50%\n",
      "FP rate:  32.69%\n",
      "FN rate:  4.81%\n",
      "Benchmark:  55.23%\n"
     ]
    },
    {
     "data": {
      "text/plain": [
       "TP    56\n",
       "FP    34\n",
       "TN     9\n",
       "FN     5\n",
       "Name: ERROR, dtype: int64"
      ]
     },
     "execution_count": 19,
     "metadata": {},
     "output_type": "execute_result"
    }
   ],
   "source": [
    "forMatrix['ERROR'] = forMatrix.apply(lambda x: errorType(x, 'Direction_IO'), axis=1)\n",
    "counts = forMatrix['ERROR'].value_counts()\n",
    "\n",
    "right = counts['TP'] + counts['TN']\n",
    "total = len(forMatrix)\n",
    "print('Accuracy:  {:.2f}%'.format((right/total)*100))\n",
    "print('FP rate:  {:.2f}%'.format((counts['FP']/total)*100))\n",
    "print('FN rate:  {:.2f}%'.format((counts['FN']/total)*100))\n",
    "print('Benchmark:  {:.2f}%'.format((train_y.sum()/len(train_y))*100))\n",
    "\n",
    "counts"
   ]
  },
  {
   "cell_type": "markdown",
   "metadata": {},
   "source": [
    "This model is slightly better than the model using all variables."
   ]
  },
  {
   "cell_type": "markdown",
   "metadata": {},
   "source": [
    "e) repeat d using LDA"
   ]
  },
  {
   "cell_type": "code",
   "execution_count": 20,
   "metadata": {},
   "outputs": [
    {
     "data": {
      "text/plain": [
       "LinearDiscriminantAnalysis(n_components=None, priors=None, shrinkage=None,\n",
       "                           solver='svd', store_covariance=False, tol=0.0001)"
      ]
     },
     "execution_count": 20,
     "metadata": {},
     "output_type": "execute_result"
    }
   ],
   "source": [
    "from sklearn.discriminant_analysis import LinearDiscriminantAnalysis as LDA\n",
    "model = LDA()\n",
    "model.fit(train_x, train_y)"
   ]
  },
  {
   "cell_type": "code",
   "execution_count": 21,
   "metadata": {},
   "outputs": [],
   "source": [
    "preds = model.predict(test_x)\n",
    "predictions = pd.DataFrame(preds, columns=['Predicted'])\n",
    "test_y.reset_index(drop=True, inplace=True)\n",
    "forMatrix = pd.concat((test_y, predictions), axis=1)"
   ]
  },
  {
   "cell_type": "code",
   "execution_count": 22,
   "metadata": {},
   "outputs": [
    {
     "name": "stdout",
     "output_type": "stream",
     "text": [
      "Accuracy:  62.50%\n",
      "FP rate:  32.69%\n",
      "FN rate:  4.81%\n",
      "Benchmark:  55.23%\n"
     ]
    },
    {
     "data": {
      "text/plain": [
       "TP    56\n",
       "FP    34\n",
       "TN     9\n",
       "FN     5\n",
       "Name: ERROR, dtype: int64"
      ]
     },
     "execution_count": 22,
     "metadata": {},
     "output_type": "execute_result"
    }
   ],
   "source": [
    "forMatrix['ERROR'] = forMatrix.apply(lambda x: errorType(x, 'Direction_IO'), axis=1)\n",
    "counts = forMatrix['ERROR'].value_counts()\n",
    "\n",
    "right = counts['TP'] + counts['TN']\n",
    "total = len(forMatrix)\n",
    "print('Accuracy:  {:.2f}%'.format((right/total)*100))\n",
    "print('FP rate:  {:.2f}%'.format((counts['FP']/total)*100))\n",
    "print('FN rate:  {:.2f}%'.format((counts['FN']/total)*100))\n",
    "print('Benchmark:  {:.2f}%'.format((train_y.sum()/len(train_y))*100))\n",
    "\n",
    "counts"
   ]
  },
  {
   "cell_type": "markdown",
   "metadata": {},
   "source": [
    "f) repeat d using QDA"
   ]
  },
  {
   "cell_type": "code",
   "execution_count": 23,
   "metadata": {},
   "outputs": [
    {
     "data": {
      "text/plain": [
       "QuadraticDiscriminantAnalysis(priors=None, reg_param=0.0,\n",
       "                              store_covariance=False, tol=0.0001)"
      ]
     },
     "execution_count": 23,
     "metadata": {},
     "output_type": "execute_result"
    }
   ],
   "source": [
    "from sklearn.discriminant_analysis import QuadraticDiscriminantAnalysis as QDA\n",
    "model = QDA()\n",
    "model.fit(train_x, train_y)"
   ]
  },
  {
   "cell_type": "code",
   "execution_count": 24,
   "metadata": {},
   "outputs": [
    {
     "data": {
      "text/plain": [
       "array([1], dtype=int64)"
      ]
     },
     "execution_count": 24,
     "metadata": {},
     "output_type": "execute_result"
    }
   ],
   "source": [
    "preds = model.predict(test_x)\n",
    "predictions = pd.DataFrame(preds, columns=['Predicted'])\n",
    "test_y.reset_index(drop=True, inplace=True)\n",
    "forMatrix = pd.concat((test_y, predictions), axis=1)\n",
    "forMatrix['Predicted'].unique()"
   ]
  },
  {
   "cell_type": "code",
   "execution_count": 25,
   "metadata": {},
   "outputs": [
    {
     "name": "stdout",
     "output_type": "stream",
     "text": [
      "Accuracy:  58.65%\n",
      "FP rate:  41.35%\n",
      "Benchmark:  55.23%\n"
     ]
    },
    {
     "data": {
      "text/plain": [
       "TP    61\n",
       "FP    43\n",
       "Name: ERROR, dtype: int64"
      ]
     },
     "execution_count": 25,
     "metadata": {},
     "output_type": "execute_result"
    }
   ],
   "source": [
    "forMatrix['ERROR'] = forMatrix.apply(lambda x: errorType(x, 'Direction_IO'), axis=1)\n",
    "counts = forMatrix['ERROR'].value_counts()\n",
    "\n",
    "right = counts['TP']\n",
    "total = len(forMatrix)\n",
    "print('Accuracy:  {:.2f}%'.format((right/total)*100))\n",
    "print('FP rate:  {:.2f}%'.format((counts['FP']/total)*100))\n",
    "print('Benchmark:  {:.2f}%'.format((train_y.sum()/len(train_y))*100))\n",
    "\n",
    "counts"
   ]
  },
  {
   "cell_type": "markdown",
   "metadata": {},
   "source": [
    "g) repead d using KNN with K=1"
   ]
  },
  {
   "cell_type": "code",
   "execution_count": 26,
   "metadata": {},
   "outputs": [
    {
     "data": {
      "text/plain": [
       "KNeighborsClassifier(algorithm='auto', leaf_size=30, metric='minkowski',\n",
       "                     metric_params=None, n_jobs=None, n_neighbors=1, p=2,\n",
       "                     weights='uniform')"
      ]
     },
     "execution_count": 26,
     "metadata": {},
     "output_type": "execute_result"
    }
   ],
   "source": [
    "from sklearn.neighbors import KNeighborsClassifier as KNN\n",
    "model = KNN(n_neighbors=1)\n",
    "model.fit(train_x, train_y)"
   ]
  },
  {
   "cell_type": "code",
   "execution_count": 27,
   "metadata": {},
   "outputs": [],
   "source": [
    "preds = model.predict(test_x)\n",
    "predictions = pd.DataFrame(preds, columns=['Predicted'])\n",
    "test_y.reset_index(drop=True, inplace=True)\n",
    "forMatrix = pd.concat((test_y, predictions), axis=1)"
   ]
  },
  {
   "cell_type": "code",
   "execution_count": 28,
   "metadata": {},
   "outputs": [
    {
     "name": "stdout",
     "output_type": "stream",
     "text": [
      "Accuracy:  49.04%\n",
      "FP rate:  21.15%\n",
      "FN rate:  29.81%\n",
      "Benchmark:  55.23%\n"
     ]
    },
    {
     "data": {
      "text/plain": [
       "FN    31\n",
       "TP    30\n",
       "FP    22\n",
       "TN    21\n",
       "Name: ERROR, dtype: int64"
      ]
     },
     "execution_count": 28,
     "metadata": {},
     "output_type": "execute_result"
    }
   ],
   "source": [
    "forMatrix['ERROR'] = forMatrix.apply(lambda x: errorType(x, 'Direction_IO'), axis=1)\n",
    "counts = forMatrix['ERROR'].value_counts()\n",
    "\n",
    "right = counts['TP'] + counts['TN']\n",
    "total = len(forMatrix)\n",
    "print('Accuracy:  {:.2f}%'.format((right/total)*100))\n",
    "print('FP rate:  {:.2f}%'.format((counts['FP']/total)*100))\n",
    "print('FN rate:  {:.2f}%'.format((counts['FN']/total)*100))\n",
    "print('Benchmark:  {:.2f}%'.format((train_y.sum()/len(train_y))*100))\n",
    "\n",
    "counts"
   ]
  },
  {
   "cell_type": "markdown",
   "metadata": {},
   "source": [
    "h) Which method appears to do the best?\n",
    "****Answer:**** The logistic regression or LDA performed the best.  Understandable because the distribution of the predictor was very close to normal."
   ]
  },
  {
   "cell_type": "markdown",
   "metadata": {},
   "source": [
    "***\n",
    "11)  In this problem, develop a model to predict whether a given car gets high or low gas mileage based on the Auto data set.\n",
    "\n",
    "a) Create a binary variable, mpg01, that contains a 1 if mpg contains a value above the median, and a 0 if below."
   ]
  },
  {
   "cell_type": "code",
   "execution_count": 29,
   "metadata": {},
   "outputs": [],
   "source": [
    "auto = pd.read_csv(os.path.join(direct, 'Auto.csv'))"
   ]
  },
  {
   "cell_type": "code",
   "execution_count": 30,
   "metadata": {},
   "outputs": [],
   "source": [
    "median = auto['mpg'].describe()['50%']\n",
    "auto['mpg01'] = auto['mpg'].apply(lambda x: 1 if x >= median else 0)"
   ]
  },
  {
   "cell_type": "markdown",
   "metadata": {},
   "source": [
    "b) Explore the data graphically, which seems to be most useful for prediction?"
   ]
  },
  {
   "cell_type": "code",
   "execution_count": 31,
   "metadata": {},
   "outputs": [
    {
     "name": "stdout",
     "output_type": "stream",
     "text": [
      "<class 'pandas.core.frame.DataFrame'>\n",
      "RangeIndex: 397 entries, 0 to 396\n",
      "Data columns (total 10 columns):\n",
      "mpg             397 non-null float64\n",
      "cylinders       397 non-null int64\n",
      "displacement    397 non-null float64\n",
      "horsepower      397 non-null object\n",
      "weight          397 non-null int64\n",
      "acceleration    397 non-null float64\n",
      "year            397 non-null int64\n",
      "origin          397 non-null int64\n",
      "name            397 non-null object\n",
      "mpg01           397 non-null int64\n",
      "dtypes: float64(3), int64(5), object(2)\n",
      "memory usage: 31.1+ KB\n"
     ]
    }
   ],
   "source": [
    "auto.info()"
   ]
  },
  {
   "cell_type": "code",
   "execution_count": 32,
   "metadata": {},
   "outputs": [],
   "source": [
    "auto['remove'] = auto['horsepower'].apply(lambda x: 1 if x=='?' else 0)\n",
    "auto = auto.loc[auto['remove'] == 0]\n",
    "auto.drop(columns=['remove'], inplace=True)\n",
    "auto2 = auto['horsepower'].astype('float64')"
   ]
  },
  {
   "cell_type": "code",
   "execution_count": 33,
   "metadata": {},
   "outputs": [],
   "source": [
    "auto3 = pd.concat((auto[['cylinders', 'displacement', 'weight', 'acceleration', 'year', 'origin', 'name', 'mpg01']], auto2), axis=1)\n",
    "auto = auto3"
   ]
  },
  {
   "cell_type": "code",
   "execution_count": 34,
   "metadata": {},
   "outputs": [
    {
     "data": {
      "image/png": "[encoded data removed]",
      "text/plain": [
       "<Figure size 720x864 with 6 Axes>"
      ]
     },
     "metadata": {
      "needs_background": "light"
     },
     "output_type": "display_data"
    }
   ],
   "source": [
    "fig = plt.figure(figsize=(10,12))\n",
    "ax1 = fig.add_subplot(3,2,1)\n",
    "sns.boxplot(x = auto['mpg01'], y = auto['cylinders']);\n",
    "\n",
    "ax2 = fig.add_subplot(3,2,2)\n",
    "sns.boxplot(x = auto['mpg01'], y = auto['weight']);\n",
    "\n",
    "ax3 = fig.add_subplot(3,2,3)\n",
    "sns.boxplot(x = auto['mpg01'], y = auto['acceleration']);\n",
    "\n",
    "ax4 = fig.add_subplot(3,2,4)\n",
    "sns.boxplot(x = auto['mpg01'], y = auto['year']);\n",
    "\n",
    "ax5 = fig.add_subplot(3,2,5)\n",
    "sns.boxplot(x = auto['mpg01'], y = auto['displacement']);\n",
    "\n",
    "ax6 = fig.add_subplot(3,2,6)\n",
    "sns.boxplot(x = auto['mpg01'], y = auto['horsepower']);"
   ]
  },
  {
   "cell_type": "code",
   "execution_count": 35,
   "metadata": {},
   "outputs": [
    {
     "data": {
      "text/html": [
       "<div>\n",
       "<style scoped>\n",
       "    .dataframe tbody tr th:only-of-type {\n",
       "        vertical-align: middle;\n",
       "    }\n",
       "\n",
       "    .dataframe tbody tr th {\n",
       "        vertical-align: top;\n",
       "    }\n",
       "\n",
       "    .dataframe thead th {\n",
       "        text-align: right;\n",
       "    }\n",
       "</style>\n",
       "<table border=\"1\" class=\"dataframe\">\n",
       "  <thead>\n",
       "    <tr style=\"text-align: right;\">\n",
       "      <th></th>\n",
       "      <th>cylinders</th>\n",
       "      <th>displacement</th>\n",
       "      <th>weight</th>\n",
       "      <th>acceleration</th>\n",
       "      <th>year</th>\n",
       "      <th>origin</th>\n",
       "      <th>mpg01</th>\n",
       "      <th>horsepower</th>\n",
       "    </tr>\n",
       "  </thead>\n",
       "  <tbody>\n",
       "    <tr>\n",
       "      <td>cylinders</td>\n",
       "      <td>1.000000</td>\n",
       "      <td>0.950823</td>\n",
       "      <td>0.897527</td>\n",
       "      <td>-0.504683</td>\n",
       "      <td>-0.345647</td>\n",
       "      <td>-0.568932</td>\n",
       "      <td>-0.759194</td>\n",
       "      <td>0.842983</td>\n",
       "    </tr>\n",
       "    <tr>\n",
       "      <td>displacement</td>\n",
       "      <td>0.950823</td>\n",
       "      <td>1.000000</td>\n",
       "      <td>0.932994</td>\n",
       "      <td>-0.543800</td>\n",
       "      <td>-0.369855</td>\n",
       "      <td>-0.614535</td>\n",
       "      <td>-0.753477</td>\n",
       "      <td>0.897257</td>\n",
       "    </tr>\n",
       "    <tr>\n",
       "      <td>weight</td>\n",
       "      <td>0.897527</td>\n",
       "      <td>0.932994</td>\n",
       "      <td>1.000000</td>\n",
       "      <td>-0.416839</td>\n",
       "      <td>-0.309120</td>\n",
       "      <td>-0.585005</td>\n",
       "      <td>-0.757757</td>\n",
       "      <td>0.864538</td>\n",
       "    </tr>\n",
       "    <tr>\n",
       "      <td>acceleration</td>\n",
       "      <td>-0.504683</td>\n",
       "      <td>-0.543800</td>\n",
       "      <td>-0.416839</td>\n",
       "      <td>1.000000</td>\n",
       "      <td>0.290316</td>\n",
       "      <td>0.212746</td>\n",
       "      <td>0.346822</td>\n",
       "      <td>-0.689196</td>\n",
       "    </tr>\n",
       "    <tr>\n",
       "      <td>year</td>\n",
       "      <td>-0.345647</td>\n",
       "      <td>-0.369855</td>\n",
       "      <td>-0.309120</td>\n",
       "      <td>0.290316</td>\n",
       "      <td>1.000000</td>\n",
       "      <td>0.181528</td>\n",
       "      <td>0.429904</td>\n",
       "      <td>-0.416361</td>\n",
       "    </tr>\n",
       "    <tr>\n",
       "      <td>origin</td>\n",
       "      <td>-0.568932</td>\n",
       "      <td>-0.614535</td>\n",
       "      <td>-0.585005</td>\n",
       "      <td>0.212746</td>\n",
       "      <td>0.181528</td>\n",
       "      <td>1.000000</td>\n",
       "      <td>0.513698</td>\n",
       "      <td>-0.455171</td>\n",
       "    </tr>\n",
       "    <tr>\n",
       "      <td>mpg01</td>\n",
       "      <td>-0.759194</td>\n",
       "      <td>-0.753477</td>\n",
       "      <td>-0.757757</td>\n",
       "      <td>0.346822</td>\n",
       "      <td>0.429904</td>\n",
       "      <td>0.513698</td>\n",
       "      <td>1.000000</td>\n",
       "      <td>-0.667053</td>\n",
       "    </tr>\n",
       "    <tr>\n",
       "      <td>horsepower</td>\n",
       "      <td>0.842983</td>\n",
       "      <td>0.897257</td>\n",
       "      <td>0.864538</td>\n",
       "      <td>-0.689196</td>\n",
       "      <td>-0.416361</td>\n",
       "      <td>-0.455171</td>\n",
       "      <td>-0.667053</td>\n",
       "      <td>1.000000</td>\n",
       "    </tr>\n",
       "  </tbody>\n",
       "</table>\n",
       "</div>"
      ],
      "text/plain": [
       "              cylinders  displacement    weight  acceleration      year  \\\n",
       "cylinders      1.000000      0.950823  0.897527     -0.504683 -0.345647   \n",
       "displacement   0.950823      1.000000  0.932994     -0.543800 -0.369855   \n",
       "weight         0.897527      0.932994  1.000000     -0.416839 -0.309120   \n",
       "acceleration  -0.504683     -0.543800 -0.416839      1.000000  0.290316   \n",
       "year          -0.345647     -0.369855 -0.309120      0.290316  1.000000   \n",
       "origin        -0.568932     -0.614535 -0.585005      0.212746  0.181528   \n",
       "mpg01         -0.759194     -0.753477 -0.757757      0.346822  0.429904   \n",
       "horsepower     0.842983      0.897257  0.864538     -0.689196 -0.416361   \n",
       "\n",
       "                origin     mpg01  horsepower  \n",
       "cylinders    -0.568932 -0.759194    0.842983  \n",
       "displacement -0.614535 -0.753477    0.897257  \n",
       "weight       -0.585005 -0.757757    0.864538  \n",
       "acceleration  0.212746  0.346822   -0.689196  \n",
       "year          0.181528  0.429904   -0.416361  \n",
       "origin        1.000000  0.513698   -0.455171  \n",
       "mpg01         0.513698  1.000000   -0.667053  \n",
       "horsepower   -0.455171 -0.667053    1.000000  "
      ]
     },
     "execution_count": 35,
     "metadata": {},
     "output_type": "execute_result"
    }
   ],
   "source": [
    "auto.corr()"
   ]
  },
  {
   "cell_type": "markdown",
   "metadata": {},
   "source": [
    "****Answer:**** The variables used in the boxplots above seem like they will be useful, however, cylinders, displacement, weight, and horsepower are all very correlated.  Using all may cause issues."
   ]
  },
  {
   "cell_type": "markdown",
   "metadata": {},
   "source": [
    "c) Split the data into test and training sets"
   ]
  },
  {
   "cell_type": "code",
   "execution_count": 36,
   "metadata": {},
   "outputs": [],
   "source": [
    "from sklearn.model_selection import train_test_split as tts\n",
    "x_cols = ['displacement', 'acceleration', 'year']\n",
    "x_train, x_test, y_train, y_test = tts(auto[x_cols], auto['mpg01'], test_size = 0.5, random_state=1)"
   ]
  },
  {
   "cell_type": "markdown",
   "metadata": {},
   "source": [
    "d) Perform LDA on the training data to predict mpg01 using variables that seemed the most useful in b.  What is the test error rate?"
   ]
  },
  {
   "cell_type": "code",
   "execution_count": 37,
   "metadata": {},
   "outputs": [
    {
     "data": {
      "text/plain": [
       "LinearDiscriminantAnalysis(n_components=None, priors=None, shrinkage=None,\n",
       "                           solver='svd', store_covariance=False, tol=0.0001)"
      ]
     },
     "execution_count": 37,
     "metadata": {},
     "output_type": "execute_result"
    }
   ],
   "source": [
    "model = LDA()\n",
    "model.fit(x_train, y_train)"
   ]
  },
  {
   "cell_type": "code",
   "execution_count": 38,
   "metadata": {},
   "outputs": [
    {
     "name": "stdout",
     "output_type": "stream",
     "text": [
      "Accuracy:  87.76%\n",
      "FP rate:  9.69%\n",
      "FN rate:  2.55%\n",
      "Benchmark:  53.57%\n"
     ]
    },
    {
     "data": {
      "text/plain": [
       "TP    86\n",
       "TN    86\n",
       "FP    19\n",
       "FN     5\n",
       "Name: ERROR, dtype: int64"
      ]
     },
     "execution_count": 38,
     "metadata": {},
     "output_type": "execute_result"
    }
   ],
   "source": [
    "preds = model.predict(x_test)\n",
    "predictions = pd.DataFrame(preds, columns=['Predicted'])\n",
    "y_test.reset_index(drop=True, inplace=True)\n",
    "forMatrix = pd.concat((y_test, predictions), axis=1)\n",
    "\n",
    "forMatrix['ERROR'] = forMatrix.apply(lambda x: errorType(x, 'mpg01'), axis=1)\n",
    "counts = forMatrix['ERROR'].value_counts()\n",
    "\n",
    "right = counts['TP'] + counts['TN']\n",
    "total = len(forMatrix)\n",
    "print('Accuracy:  {:.2f}%'.format((right/total)*100))\n",
    "print('FP rate:  {:.2f}%'.format((counts['FP']/total)*100))\n",
    "print('FN rate:  {:.2f}%'.format((counts['FN']/total)*100))\n",
    "print('Benchmark:  {:.2f}%'.format((y_train.sum()/len(y_train))*100))\n",
    "\n",
    "counts"
   ]
  },
  {
   "cell_type": "markdown",
   "metadata": {},
   "source": [
    "****Answer:**** The test error rate is 12.24%"
   ]
  },
  {
   "cell_type": "markdown",
   "metadata": {},
   "source": [
    "e) Perform QDA"
   ]
  },
  {
   "cell_type": "code",
   "execution_count": 39,
   "metadata": {},
   "outputs": [
    {
     "data": {
      "text/plain": [
       "QuadraticDiscriminantAnalysis(priors=None, reg_param=0.0,\n",
       "                              store_covariance=False, tol=0.0001)"
      ]
     },
     "execution_count": 39,
     "metadata": {},
     "output_type": "execute_result"
    }
   ],
   "source": [
    "model = QDA()\n",
    "model.fit(x_train, y_train)"
   ]
  },
  {
   "cell_type": "code",
   "execution_count": 40,
   "metadata": {},
   "outputs": [
    {
     "name": "stdout",
     "output_type": "stream",
     "text": [
      "Accuracy:  89.29%\n",
      "FP rate:  8.16%\n",
      "FN rate:  2.55%\n",
      "Benchmark:  53.57%\n"
     ]
    },
    {
     "data": {
      "text/plain": [
       "TN    89\n",
       "TP    86\n",
       "FP    16\n",
       "FN     5\n",
       "Name: ERROR, dtype: int64"
      ]
     },
     "execution_count": 40,
     "metadata": {},
     "output_type": "execute_result"
    }
   ],
   "source": [
    "preds = model.predict(x_test)\n",
    "predictions = pd.DataFrame(preds, columns=['Predicted'])\n",
    "y_test.reset_index(drop=True, inplace=True)\n",
    "forMatrix = pd.concat((y_test, predictions), axis=1)\n",
    "\n",
    "forMatrix['ERROR'] = forMatrix.apply(lambda x: errorType(x, 'mpg01'), axis=1)\n",
    "counts = forMatrix['ERROR'].value_counts()\n",
    "\n",
    "right = counts['TP'] + counts['TN']\n",
    "total = len(forMatrix)\n",
    "print('Accuracy:  {:.2f}%'.format((right/total)*100))\n",
    "print('FP rate:  {:.2f}%'.format((counts['FP']/total)*100))\n",
    "print('FN rate:  {:.2f}%'.format((counts['FN']/total)*100))\n",
    "print('Benchmark:  {:.2f}%'.format((y_train.sum()/len(y_train))*100))\n",
    "\n",
    "counts"
   ]
  },
  {
   "cell_type": "markdown",
   "metadata": {},
   "source": [
    "****Answer:**** The test error rate is 10.71%, better than LDA)"
   ]
  },
  {
   "cell_type": "markdown",
   "metadata": {},
   "source": [
    "f) Perform logistic regression"
   ]
  },
  {
   "cell_type": "code",
   "execution_count": 41,
   "metadata": {},
   "outputs": [
    {
     "name": "stdout",
     "output_type": "stream",
     "text": [
      "Optimization terminated successfully.\n",
      "         Current function value: 0.240687\n",
      "         Iterations 9\n",
      "                           Logit Regression Results                           \n",
      "==============================================================================\n",
      "Dep. Variable:                  mpg01   No. Observations:                  196\n",
      "Model:                          Logit   Df Residuals:                      192\n",
      "Method:                           MLE   Df Model:                            3\n",
      "Date:                Thu, 09 Jul 2020   Pseudo R-squ.:                  0.6515\n",
      "Time:                        15:24:10   Log-Likelihood:                -47.175\n",
      "converged:                       True   LL-Null:                       -135.36\n",
      "Covariance Type:            nonrobust   LLR p-value:                 5.380e-38\n",
      "================================================================================\n",
      "                   coef    std err          z      P>|z|      [0.025      0.975]\n",
      "--------------------------------------------------------------------------------\n",
      "const          -18.4949      6.613     -2.797      0.005     -31.457      -5.533\n",
      "displacement    -0.0399      0.007     -5.835      0.000      -0.053      -0.026\n",
      "acceleration     0.1240      0.128      0.972      0.331      -0.126       0.374\n",
      "year             0.3036      0.083      3.638      0.000       0.140       0.467\n",
      "================================================================================\n"
     ]
    },
    {
     "name": "stderr",
     "output_type": "stream",
     "text": [
      "C:\\Users\\joepo\\Anaconda3\\lib\\site-packages\\numpy\\core\\fromnumeric.py:2389: FutureWarning: Method .ptp is deprecated and will be removed in a future version. Use numpy.ptp instead.\n",
      "  return ptp(axis=axis, out=out, **kwargs)\n"
     ]
    }
   ],
   "source": [
    "model = sm.Logit(y_train, sm.add_constant(x_train)).fit()\n",
    "print(model.summary())"
   ]
  },
  {
   "cell_type": "code",
   "execution_count": 42,
   "metadata": {},
   "outputs": [
    {
     "name": "stdout",
     "output_type": "stream",
     "text": [
      "Accuracy:  20.07%\n",
      "FP rate:  26.19%\n",
      "FN rate:  53.74%\n",
      "Benchmark:  53.57%\n"
     ]
    },
    {
     "data": {
      "text/plain": [
       "FN    158\n",
       "FP     77\n",
       "TN     38\n",
       "TP     21\n",
       "Name: ERROR, dtype: int64"
      ]
     },
     "execution_count": 42,
     "metadata": {},
     "output_type": "execute_result"
    }
   ],
   "source": [
    "preds = model.predict(sm.add_constant(x_test))\n",
    "probs = pd.DataFrame(preds, columns=['Probabilities'])\n",
    "probs['Predicted'] = probs['Probabilities'].apply(lambda x: 1 if x > 0.5 else 0)\n",
    "forMatrix = pd.concat((y_test, probs['Predicted']), axis=1)\n",
    "\n",
    "forMatrix['ERROR'] = forMatrix.apply(lambda x: errorType(x, 'mpg01'), axis=1)\n",
    "counts = forMatrix['ERROR'].value_counts()\n",
    "\n",
    "right = counts['TP'] + counts['TN']\n",
    "total = len(forMatrix)\n",
    "print('Accuracy:  {:.2f}%'.format((right/total)*100))\n",
    "print('FP rate:  {:.2f}%'.format((counts['FP']/total)*100))\n",
    "print('FN rate:  {:.2f}%'.format((counts['FN']/total)*100))\n",
    "print('Benchmark:  {:.2f}%'.format((y_train.sum()/len(y_train))*100))\n",
    "\n",
    "counts"
   ]
  },
  {
   "cell_type": "markdown",
   "metadata": {},
   "source": [
    "****Answer:**** The test error rate is very high"
   ]
  },
  {
   "cell_type": "markdown",
   "metadata": {},
   "source": [
    "g) Perform KNN on the data, using multiple values of K.  Which value of K seems to perform the best?"
   ]
  },
  {
   "cell_type": "code",
   "execution_count": 43,
   "metadata": {},
   "outputs": [
    {
     "name": "stdout",
     "output_type": "stream",
     "text": [
      "Accuracy:  90.31%\n",
      "FP rate:  6.63%\n",
      "FN rate:  3.06%\n",
      "Benchmark:  53.57%\n"
     ]
    },
    {
     "data": {
      "text/plain": [
       "TN    92\n",
       "TP    85\n",
       "FP    13\n",
       "FN     6\n",
       "Name: ERROR, dtype: int64"
      ]
     },
     "execution_count": 43,
     "metadata": {},
     "output_type": "execute_result"
    }
   ],
   "source": [
    "model = KNN(n_neighbors=5)\n",
    "model.fit(x_train, y_train)\n",
    "\n",
    "preds = model.predict(x_test)\n",
    "probs = pd.DataFrame(preds, columns=['Probabilities'])\n",
    "probs['Predicted'] = probs['Probabilities'].apply(lambda x: 1 if x > 0.5 else 0)\n",
    "forMatrix = pd.concat((y_test, probs['Predicted']), axis=1)\n",
    "\n",
    "forMatrix['ERROR'] = forMatrix.apply(lambda x: errorType(x, 'mpg01'), axis=1)\n",
    "counts = forMatrix['ERROR'].value_counts()\n",
    "\n",
    "right = counts['TP'] + counts['TN']\n",
    "total = len(forMatrix)\n",
    "print('Accuracy:  {:.2f}%'.format((right/total)*100))\n",
    "print('FP rate:  {:.2f}%'.format((counts['FP']/total)*100))\n",
    "print('FN rate:  {:.2f}%'.format((counts['FN']/total)*100))\n",
    "print('Benchmark:  {:.2f}%'.format((y_train.sum()/len(y_train))*100))\n",
    "\n",
    "counts"
   ]
  },
  {
   "cell_type": "code",
   "execution_count": 44,
   "metadata": {},
   "outputs": [
    {
     "name": "stdout",
     "output_type": "stream",
     "text": [
      "Accuracy:  90.31%\n",
      "FP rate:  7.14%\n",
      "FN rate:  2.55%\n",
      "Benchmark:  53.57%\n"
     ]
    },
    {
     "data": {
      "text/plain": [
       "TN    91\n",
       "TP    86\n",
       "FP    14\n",
       "FN     5\n",
       "Name: ERROR, dtype: int64"
      ]
     },
     "execution_count": 44,
     "metadata": {},
     "output_type": "execute_result"
    }
   ],
   "source": [
    "model = KNN(n_neighbors=10)\n",
    "model.fit(x_train, y_train)\n",
    "\n",
    "preds = model.predict(x_test)\n",
    "probs = pd.DataFrame(preds, columns=['Probabilities'])\n",
    "probs['Predicted'] = probs['Probabilities'].apply(lambda x: 1 if x > 0.5 else 0)\n",
    "forMatrix = pd.concat((y_test, probs['Predicted']), axis=1)\n",
    "\n",
    "forMatrix['ERROR'] = forMatrix.apply(lambda x: errorType(x, 'mpg01'), axis=1)\n",
    "counts = forMatrix['ERROR'].value_counts()\n",
    "\n",
    "right = counts['TP'] + counts['TN']\n",
    "total = len(forMatrix)\n",
    "print('Accuracy:  {:.2f}%'.format((right/total)*100))\n",
    "print('FP rate:  {:.2f}%'.format((counts['FP']/total)*100))\n",
    "print('FN rate:  {:.2f}%'.format((counts['FN']/total)*100))\n",
    "print('Benchmark:  {:.2f}%'.format((y_train.sum()/len(y_train))*100))\n",
    "\n",
    "counts"
   ]
  },
  {
   "cell_type": "code",
   "execution_count": 45,
   "metadata": {},
   "outputs": [
    {
     "name": "stdout",
     "output_type": "stream",
     "text": [
      "Accuracy:  89.29%\n",
      "FP rate:  8.16%\n",
      "FN rate:  2.55%\n",
      "Benchmark:  53.57%\n"
     ]
    },
    {
     "data": {
      "text/plain": [
       "TN    89\n",
       "TP    86\n",
       "FP    16\n",
       "FN     5\n",
       "Name: ERROR, dtype: int64"
      ]
     },
     "execution_count": 45,
     "metadata": {},
     "output_type": "execute_result"
    }
   ],
   "source": [
    "model = KNN(n_neighbors=20)\n",
    "model.fit(x_train, y_train)\n",
    "\n",
    "preds = model.predict(x_test)\n",
    "probs = pd.DataFrame(preds, columns=['Probabilities'])\n",
    "probs['Predicted'] = probs['Probabilities'].apply(lambda x: 1 if x > 0.5 else 0)\n",
    "forMatrix = pd.concat((y_test, probs['Predicted']), axis=1)\n",
    "\n",
    "forMatrix['ERROR'] = forMatrix.apply(lambda x: errorType(x, 'mpg01'), axis=1)\n",
    "counts = forMatrix['ERROR'].value_counts()\n",
    "\n",
    "right = counts['TP'] + counts['TN']\n",
    "total = len(forMatrix)\n",
    "print('Accuracy:  {:.2f}%'.format((right/total)*100))\n",
    "print('FP rate:  {:.2f}%'.format((counts['FP']/total)*100))\n",
    "print('FN rate:  {:.2f}%'.format((counts['FN']/total)*100))\n",
    "print('Benchmark:  {:.2f}%'.format((y_train.sum()/len(y_train))*100))\n",
    "\n",
    "counts"
   ]
  },
  {
   "cell_type": "code",
   "execution_count": 46,
   "metadata": {},
   "outputs": [
    {
     "name": "stdout",
     "output_type": "stream",
     "text": [
      "Accuracy:  89.29%\n",
      "FP rate:  8.16%\n",
      "FN rate:  2.55%\n",
      "Benchmark:  53.57%\n"
     ]
    },
    {
     "data": {
      "text/plain": [
       "TN    89\n",
       "TP    86\n",
       "FP    16\n",
       "FN     5\n",
       "Name: ERROR, dtype: int64"
      ]
     },
     "execution_count": 46,
     "metadata": {},
     "output_type": "execute_result"
    }
   ],
   "source": [
    "model = KNN(n_neighbors=50)\n",
    "model.fit(x_train, y_train)\n",
    "\n",
    "preds = model.predict(x_test)\n",
    "probs = pd.DataFrame(preds, columns=['Probabilities'])\n",
    "probs['Predicted'] = probs['Probabilities'].apply(lambda x: 1 if x > 0.5 else 0)\n",
    "forMatrix = pd.concat((y_test, probs['Predicted']), axis=1)\n",
    "\n",
    "forMatrix['ERROR'] = forMatrix.apply(lambda x: errorType(x, 'mpg01'), axis=1)\n",
    "counts = forMatrix['ERROR'].value_counts()\n",
    "\n",
    "right = counts['TP'] + counts['TN']\n",
    "total = len(forMatrix)\n",
    "print('Accuracy:  {:.2f}%'.format((right/total)*100))\n",
    "print('FP rate:  {:.2f}%'.format((counts['FP']/total)*100))\n",
    "print('FN rate:  {:.2f}%'.format((counts['FN']/total)*100))\n",
    "print('Benchmark:  {:.2f}%'.format((y_train.sum()/len(y_train))*100))\n",
    "\n",
    "counts"
   ]
  },
  {
   "cell_type": "code",
   "execution_count": 47,
   "metadata": {},
   "outputs": [
    {
     "name": "stdout",
     "output_type": "stream",
     "text": [
      "Accuracy:  87.24%\n",
      "FP rate:  11.22%\n",
      "FN rate:  1.53%\n",
      "Benchmark:  53.57%\n"
     ]
    },
    {
     "data": {
      "text/plain": [
       "TP    88\n",
       "TN    83\n",
       "FP    22\n",
       "FN     3\n",
       "Name: ERROR, dtype: int64"
      ]
     },
     "execution_count": 47,
     "metadata": {},
     "output_type": "execute_result"
    }
   ],
   "source": [
    "model = KNN(n_neighbors=100)\n",
    "model.fit(x_train, y_train)\n",
    "\n",
    "preds = model.predict(x_test)\n",
    "probs = pd.DataFrame(preds, columns=['Probabilities'])\n",
    "probs['Predicted'] = probs['Probabilities'].apply(lambda x: 1 if x > 0.5 else 0)\n",
    "forMatrix = pd.concat((y_test, probs['Predicted']), axis=1)\n",
    "\n",
    "forMatrix['ERROR'] = forMatrix.apply(lambda x: errorType(x, 'mpg01'), axis=1)\n",
    "counts = forMatrix['ERROR'].value_counts()\n",
    "\n",
    "right = counts['TP'] + counts['TN']\n",
    "total = len(forMatrix)\n",
    "print('Accuracy:  {:.2f}%'.format((right/total)*100))\n",
    "print('FP rate:  {:.2f}%'.format((counts['FP']/total)*100))\n",
    "print('FN rate:  {:.2f}%'.format((counts['FN']/total)*100))\n",
    "print('Benchmark:  {:.2f}%'.format((y_train.sum()/len(y_train))*100))\n",
    "\n",
    "counts"
   ]
  },
  {
   "cell_type": "markdown",
   "metadata": {},
   "source": [
    "****Answer:**** The best model seems to be K ~ 10"
   ]
  },
  {
   "cell_type": "markdown",
   "metadata": {},
   "source": [
    "***\n",
    "13) Use the Boston dataset and fit classification models in order to predict whether a given suburb has a crime rate above or below the median.  Explore logistic, LDA, and KNN models using various subsets of the predictors.  Describe the findings."
   ]
  },
  {
   "cell_type": "code",
   "execution_count": 48,
   "metadata": {},
   "outputs": [],
   "source": [
    "boston = pd.read_csv(os.path.join(direct, 'Boston.csv'))\n",
    "median = boston['crim'].describe()['50%']\n",
    "boston['crim_io'] = boston['crim'].apply(lambda x: 1 if x >= median else 0)\n",
    "cols = ['zn', 'indus', 'chas', 'nox', 'rm', 'age', 'dis', 'rad', 'tax',\n",
    "       'ptratio', 'b', 'lstat', 'medv']\n",
    "x_train, x_test, y_train, y_test = tts(boston[cols], boston['crim_io'], test_size = 0.5, random_state=1)"
   ]
  },
  {
   "cell_type": "code",
   "execution_count": 49,
   "metadata": {},
   "outputs": [],
   "source": [
    "x_cols = ['nox', 'age', 'rad', 'tax', 'ptratio', 'b', 'medv']\n",
    "x = x_train[x_cols]"
   ]
  },
  {
   "cell_type": "code",
   "execution_count": 50,
   "metadata": {},
   "outputs": [
    {
     "name": "stdout",
     "output_type": "stream",
     "text": [
      "Optimization terminated successfully.\n",
      "         Current function value: 0.183946\n",
      "         Iterations 11\n",
      "                           Logit Regression Results                           \n",
      "==============================================================================\n",
      "Dep. Variable:                crim_io   No. Observations:                  253\n",
      "Model:                          Logit   Df Residuals:                      245\n",
      "Method:                           MLE   Df Model:                            7\n",
      "Date:                Thu, 09 Jul 2020   Pseudo R-squ.:                  0.7345\n",
      "Time:                        15:24:10   Log-Likelihood:                -46.538\n",
      "converged:                       True   LL-Null:                       -175.27\n",
      "Covariance Type:            nonrobust   LLR p-value:                 7.143e-52\n",
      "==============================================================================\n",
      "                 coef    std err          z      P>|z|      [0.025      0.975]\n",
      "------------------------------------------------------------------------------\n",
      "const        -20.1115      9.472     -2.123      0.034     -38.677      -1.546\n",
      "nox           38.6676      8.273      4.674      0.000      22.453      54.883\n",
      "age            0.0368      0.014      2.582      0.010       0.009       0.065\n",
      "rad            0.7887      0.227      3.471      0.001       0.343       1.234\n",
      "tax           -0.0136      0.005     -2.938      0.003      -0.023      -0.005\n",
      "ptratio        0.5961      0.187      3.180      0.001       0.229       0.963\n",
      "b             -0.0432      0.019     -2.327      0.020      -0.080      -0.007\n",
      "medv           0.1098      0.055      2.011      0.044       0.003       0.217\n",
      "==============================================================================\n",
      "\n",
      "Possibly complete quasi-separation: A fraction 0.36 of observations can be\n",
      "perfectly predicted. This might indicate that there is complete\n",
      "quasi-separation. In this case some parameters will not be identified.\n"
     ]
    },
    {
     "name": "stderr",
     "output_type": "stream",
     "text": [
      "C:\\Users\\joepo\\Anaconda3\\lib\\site-packages\\numpy\\core\\fromnumeric.py:2389: FutureWarning: Method .ptp is deprecated and will be removed in a future version. Use numpy.ptp instead.\n",
      "  return ptp(axis=axis, out=out, **kwargs)\n"
     ]
    }
   ],
   "source": [
    "model = sm.Logit(y_train, sm.add_constant(x)).fit()\n",
    "print(model.summary())"
   ]
  },
  {
   "cell_type": "code",
   "execution_count": 51,
   "metadata": {},
   "outputs": [
    {
     "name": "stdout",
     "output_type": "stream",
     "text": [
      "Accuracy:  88.54%\n",
      "FP rate:  5.53%\n",
      "FN rate:  5.93%\n",
      "Benchmark:  51.38%\n"
     ]
    },
    {
     "data": {
      "text/plain": [
       "TN    116\n",
       "TP    108\n",
       "FN     15\n",
       "FP     14\n",
       "Name: ERROR, dtype: int64"
      ]
     },
     "execution_count": 51,
     "metadata": {},
     "output_type": "execute_result"
    }
   ],
   "source": [
    "x = x_test[x_cols]\n",
    "preds = model.predict(sm.add_constant(x))\n",
    "probs = pd.DataFrame(preds, columns=['Probabilities'])\n",
    "probs['Predicted'] = probs['Probabilities'].apply(lambda x: 1 if x > 0.5 else 0)\n",
    "forMatrix = pd.concat((y_test, probs['Predicted']), axis=1)\n",
    "\n",
    "forMatrix['ERROR'] = forMatrix.apply(lambda x: errorType(x, 'crim_io'), axis=1)\n",
    "counts = forMatrix['ERROR'].value_counts()\n",
    "\n",
    "right = counts['TP'] + counts['TN']\n",
    "total = len(forMatrix)\n",
    "print('Accuracy:  {:.2f}%'.format((right/total)*100))\n",
    "print('FP rate:  {:.2f}%'.format((counts['FP']/total)*100))\n",
    "print('FN rate:  {:.2f}%'.format((counts['FN']/total)*100))\n",
    "print('Benchmark:  {:.2f}%'.format((y_train.sum()/len(y_train))*100))\n",
    "\n",
    "counts"
   ]
  },
  {
   "cell_type": "code",
   "execution_count": 52,
   "metadata": {},
   "outputs": [
    {
     "name": "stdout",
     "output_type": "stream",
     "text": [
      "Accuracy:  80.24%\n",
      "FP rate:  3.16%\n",
      "FN rate:  16.60%\n",
      "Benchmark:  51.38%\n"
     ]
    },
    {
     "data": {
      "text/plain": [
       "TN    122\n",
       "TP     81\n",
       "FN     42\n",
       "FP      8\n",
       "Name: ERROR, dtype: int64"
      ]
     },
     "execution_count": 52,
     "metadata": {},
     "output_type": "execute_result"
    }
   ],
   "source": [
    "model = LDA()\n",
    "x_cols = ['nox', 'rad', 'tax', 'ptratio']\n",
    "model.fit(x_train[x_cols], y_train)\n",
    "\n",
    "x = x_test[x_cols]\n",
    "preds = model.predict(x)\n",
    "probs = pd.DataFrame(preds, columns=['Probabilities'])\n",
    "probs['Predicted'] = probs['Probabilities'].apply(lambda x: 1 if x > 0.5 else 0)\n",
    "y = y_test.reset_index(drop=True)\n",
    "forMatrix = pd.concat((y, probs['Predicted']), axis=1)\n",
    "\n",
    "\n",
    "forMatrix['ERROR'] = forMatrix.apply(lambda x: errorType(x, 'crim_io'), axis=1)\n",
    "counts = forMatrix['ERROR'].value_counts()\n",
    "\n",
    "right = counts['TP'] + counts['TN']\n",
    "total = len(forMatrix)\n",
    "print('Accuracy:  {:.2f}%'.format((right/total)*100))\n",
    "print('FP rate:  {:.2f}%'.format((counts['FP']/total)*100))\n",
    "print('FN rate:  {:.2f}%'.format((counts['FN']/total)*100))\n",
    "print('Benchmark:  {:.2f}%'.format((y_train.sum()/len(y_train))*100))\n",
    "\n",
    "counts"
   ]
  },
  {
   "cell_type": "code",
   "execution_count": 53,
   "metadata": {},
   "outputs": [
    {
     "name": "stdout",
     "output_type": "stream",
     "text": [
      "Accuracy:  94.07%\n",
      "FP rate:  2.37%\n",
      "FN rate:  3.56%\n",
      "Benchmark:  51.38%\n"
     ]
    },
    {
     "data": {
      "text/plain": [
       "TN    124\n",
       "TP    114\n",
       "FN      9\n",
       "FP      6\n",
       "Name: ERROR, dtype: int64"
      ]
     },
     "execution_count": 53,
     "metadata": {},
     "output_type": "execute_result"
    }
   ],
   "source": [
    "x_cols = ['nox', 'tax']\n",
    "model = KNN(n_neighbors=5)\n",
    "model.fit(x_train[x_cols], y_train)\n",
    "\n",
    "x = x_test[x_cols]\n",
    "preds = model.predict(x)\n",
    "probs = pd.DataFrame(preds, columns=['Probabilities'])\n",
    "probs['Predicted'] = probs['Probabilities'].apply(lambda x: 1 if x > 0.5 else 0)\n",
    "y = y_test.reset_index(drop=True)\n",
    "forMatrix = pd.concat((y, probs['Predicted']), axis=1)\n",
    "\n",
    "forMatrix['ERROR'] = forMatrix.apply(lambda x: errorType(x, 'crim_io'), axis=1)\n",
    "counts = forMatrix['ERROR'].value_counts()\n",
    "\n",
    "right = counts['TP'] + counts['TN']\n",
    "total = len(forMatrix)\n",
    "print('Accuracy:  {:.2f}%'.format((right/total)*100))\n",
    "print('FP rate:  {:.2f}%'.format((counts['FP']/total)*100))\n",
    "print('FN rate:  {:.2f}%'.format((counts['FN']/total)*100))\n",
    "print('Benchmark:  {:.2f}%'.format((y_train.sum()/len(y_train))*100))\n",
    "\n",
    "counts"
   ]
  },
  {
   "cell_type": "code",
   "execution_count": 54,
   "metadata": {},
   "outputs": [
    {
     "name": "stdout",
     "output_type": "stream",
     "text": [
      "Accuracy:  83.79%\n",
      "FP rate:  10.28%\n",
      "FN rate:  5.93%\n",
      "Benchmark:  51.38%\n"
     ]
    },
    {
     "data": {
      "text/plain": [
       "TP    108\n",
       "TN    104\n",
       "FP     26\n",
       "FN     15\n",
       "Name: ERROR, dtype: int64"
      ]
     },
     "execution_count": 54,
     "metadata": {},
     "output_type": "execute_result"
    }
   ],
   "source": [
    "x_cols = ['nox', 'tax']\n",
    "model = KNN(n_neighbors=20)\n",
    "model.fit(x_train[x_cols], y_train)\n",
    "\n",
    "x = x_test[x_cols]\n",
    "preds = model.predict(x)\n",
    "probs = pd.DataFrame(preds, columns=['Probabilities'])\n",
    "probs['Predicted'] = probs['Probabilities'].apply(lambda x: 1 if x > 0.5 else 0)\n",
    "y = y_test.reset_index(drop=True)\n",
    "forMatrix = pd.concat((y, probs['Predicted']), axis=1)\n",
    "\n",
    "forMatrix['ERROR'] = forMatrix.apply(lambda x: errorType(x, 'crim_io'), axis=1)\n",
    "counts = forMatrix['ERROR'].value_counts()\n",
    "\n",
    "right = counts['TP'] + counts['TN']\n",
    "total = len(forMatrix)\n",
    "print('Accuracy:  {:.2f}%'.format((right/total)*100))\n",
    "print('FP rate:  {:.2f}%'.format((counts['FP']/total)*100))\n",
    "print('FN rate:  {:.2f}%'.format((counts['FN']/total)*100))\n",
    "print('Benchmark:  {:.2f}%'.format((y_train.sum()/len(y_train))*100))\n",
    "\n",
    "counts"
   ]
  },
  {
   "cell_type": "code",
   "execution_count": 55,
   "metadata": {},
   "outputs": [
    {
     "name": "stdout",
     "output_type": "stream",
     "text": [
      "Accuracy:  82.21%\n",
      "FP rate:  9.49%\n",
      "FN rate:  8.30%\n",
      "Benchmark:  51.38%\n"
     ]
    },
    {
     "data": {
      "text/plain": [
       "TN    106\n",
       "TP    102\n",
       "FP     24\n",
       "FN     21\n",
       "Name: ERROR, dtype: int64"
      ]
     },
     "execution_count": 55,
     "metadata": {},
     "output_type": "execute_result"
    }
   ],
   "source": [
    "x_cols = ['nox', 'ptratio']\n",
    "model = KNN(n_neighbors=10)\n",
    "model.fit(x_train[x_cols], y_train)\n",
    "\n",
    "x = x_test[x_cols]\n",
    "preds = model.predict(x)\n",
    "probs = pd.DataFrame(preds, columns=['Probabilities'])\n",
    "probs['Predicted'] = probs['Probabilities'].apply(lambda x: 1 if x > 0.5 else 0)\n",
    "y = y_test.reset_index(drop=True)\n",
    "forMatrix = pd.concat((y, probs['Predicted']), axis=1)\n",
    "\n",
    "forMatrix['ERROR'] = forMatrix.apply(lambda x: errorType(x, 'crim_io'), axis=1)\n",
    "counts = forMatrix['ERROR'].value_counts()\n",
    "\n",
    "right = counts['TP'] + counts['TN']\n",
    "total = len(forMatrix)\n",
    "print('Accuracy:  {:.2f}%'.format((right/total)*100))\n",
    "print('FP rate:  {:.2f}%'.format((counts['FP']/total)*100))\n",
    "print('FN rate:  {:.2f}%'.format((counts['FN']/total)*100))\n",
    "print('Benchmark:  {:.2f}%'.format((y_train.sum()/len(y_train))*100))\n",
    "\n",
    "counts"
   ]
  },
  {
   "cell_type": "markdown",
   "metadata": {},
   "source": [
    "KNN classifier with nox and tax using K=5 was the best model, with a test error rate of 5.93% and very little bias (similar FPR and FNR).  Logistic regression performed the next best with a test error rate of 11.46%, (backward selection with threshold of 0.05 was used).  The worst performing was LDA, with a test error rate of 19.76%."
   ]
  }
 ],
 "metadata": {
  "kernelspec": {
   "display_name": "Python 3",
   "language": "python",
   "name": "python3"
  },
  "language_info": {
   "codemirror_mode": {
    "name": "ipython",
    "version": 3
   },
   "file_extension": ".py",
   "mimetype": "text/x-python",
   "name": "python",
   "nbconvert_exporter": "python",
   "pygments_lexer": "ipython3",
   "version": "3.7.4"
  }
 },
 "nbformat": 4,
 "nbformat_minor": 2
}
