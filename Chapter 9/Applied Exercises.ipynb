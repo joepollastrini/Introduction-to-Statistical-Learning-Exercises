{
 "cells": [
  {
   "cell_type": "code",
   "execution_count": 1,
   "metadata": {},
   "outputs": [],
   "source": [
    "seed = 0"
   ]
  },
  {
   "cell_type": "markdown",
   "metadata": {},
   "source": [
    "7)  Use the auto data set to predict whether a car gets high or low gas mileage\n",
    "\n",
    "a) Create a binary variable that takes 1 for cars with gas mileage above the median, and 0 for cars below."
   ]
  },
  {
   "cell_type": "code",
   "execution_count": 13,
   "metadata": {},
   "outputs": [],
   "source": [
    "import os\n",
    "import pandas as pd\n",
    "\n",
    "direct = os.getcwd()\n",
    "auto = pd.read_csv(os.path.join(direct, 'auto.csv'))"
   ]
  },
  {
   "cell_type": "code",
   "execution_count": 14,
   "metadata": {},
   "outputs": [],
   "source": [
    "medianMPG = auto.describe()['mpg']['50%']"
   ]
  },
  {
   "cell_type": "code",
   "execution_count": 15,
   "metadata": {},
   "outputs": [],
   "source": [
    "auto['mpg_class'] = auto['mpg'].apply(lambda x: 1 if x > medianMPG else 0)\n",
    "auto.drop(columns=['mpg', 'name'], inplace=True)\n",
    "\n",
    "auto2 = auto[auto['horsepower'] == '?']\n",
    "auto.drop(auto2.index, inplace=True)"
   ]
  },
  {
   "cell_type": "code",
   "execution_count": 16,
   "metadata": {},
   "outputs": [],
   "source": [
    "toPredict = auto['mpg_class']\n",
    "params = auto.drop(columns = ['mpg_class'])"
   ]
  },
  {
   "cell_type": "markdown",
   "metadata": {},
   "source": [
    "b) Fit a support vector classifier to the data with various values of cost, in order to predict whether a car gets high or low gas mileage.  Report the cross-validated errors associated with different values of this parameter."
   ]
  },
  {
   "cell_type": "code",
   "execution_count": 17,
   "metadata": {},
   "outputs": [],
   "source": [
    "from sklearn.svm import SVC\n",
    "from sklearn.model_selection import cross_validate as CV\n",
    "\n",
    "data = []\n",
    "for i in range(1, 15, 2):\n",
    "    error = i/10.0\n",
    "    classifier = SVC(C=error, kernel='linear', random_state = seed)\n",
    "    scores = CV(classifier, params, toPredict, cv=10)\n",
    "    linScore = linScore = sum(scores['test_score'] / len(scores['test_score']))\n",
    "    data.append([error, linScore])"
   ]
  },
  {
   "cell_type": "code",
   "execution_count": 7,
   "metadata": {},
   "outputs": [],
   "source": [
    "d = pd.DataFrame(data, columns=['error', 'MSE'])\n",
    "d.plot(x='error', y='MSE');"
   ]
  },
  {
   "cell_type": "code",
   "execution_count": 8,
   "metadata": {},
   "outputs": [
    {
     "name": "stdout",
     "output_type": "stream",
     "text": [
      "0.8982051282051282\n"
     ]
    }
   ],
   "source": [
    "from sklearn.svm import SVC\n",
    "from sklearn.model_selection import cross_validate as CV\n",
    "\n",
    "classifier = SVC(C=0.5, kernel='linear', random_state = seed)\n",
    "scores = CV(classifier, params, toPredict, cv=10)\n",
    "linScore = sum(scores['test_score'] / len(scores['test_score']))\n",
    "print(linScore)"
   ]
  },
  {
   "cell_type": "markdown",
   "metadata": {},
   "source": [
    "c) do the same with radial and poly kernels"
   ]
  },
  {
   "cell_type": "code",
   "execution_count": 13,
   "metadata": {},
   "outputs": [
    {
     "data": {
      "text/plain": [
       "{'C': 1.4, 'degree': 4}"
      ]
     },
     "execution_count": 13,
     "metadata": {},
     "output_type": "execute_result"
    }
   ],
   "source": [
    "from sklearn.model_selection import GridSearchCV as gscv\n",
    "\n",
    "classifier = SVC(kernel='poly', random_state=0)\n",
    "\n",
    "parameters = {'degree': [2, 3, 4, 5, 6], 'C':[0.4, 0.6, 0.8, 1.0, 1.2, 1.4, 1.6, 1.8, 2.0]}\n",
    "model = gscv(estimator = classifier, param_grid=parameters, n_jobs=-1, verbose=0, cv=5)\n",
    "model.fit(params, toPredict)\n",
    "model.best_params_"
   ]
  },
  {
   "cell_type": "code",
   "execution_count": 14,
   "metadata": {},
   "outputs": [
    {
     "name": "stdout",
     "output_type": "stream",
     "text": [
      "0.8722817267121066\n"
     ]
    }
   ],
   "source": [
    "classifer = SVC(C=1.4, kernel='poly', random_state=seed, degree=4)\n",
    "scores = CV(classifier, params, toPredict, cv=5)\n",
    "polyScore = sum(scores['test_score'] / len(scores['test_score']))\n",
    "print(polyScore)"
   ]
  },
  {
   "cell_type": "code",
   "execution_count": 21,
   "metadata": {},
   "outputs": [
    {
     "data": {
      "text/plain": [
       "{'C': 1.2, 'gamma': 'scale'}"
      ]
     },
     "execution_count": 21,
     "metadata": {},
     "output_type": "execute_result"
    }
   ],
   "source": [
    "classifier = SVC(random_state=0)\n",
    "\n",
    "parameters = {'C':[1, 1.2, 1.4, 1.6, 1.8], 'gamma':['auto', 'scale']}\n",
    "model = gscv(estimator = classifier, param_grid=parameters, n_jobs=-1, verbose=0, cv=5)\n",
    "model.fit(params, toPredict)\n",
    "model.best_params_"
   ]
  },
  {
   "cell_type": "code",
   "execution_count": 22,
   "metadata": {},
   "outputs": [
    {
     "name": "stdout",
     "output_type": "stream",
     "text": [
      "0.8748458292762091\n"
     ]
    }
   ],
   "source": [
    "classifier = SVC(C=1.2, random_state=seed, gamma='scale')\n",
    "scores=CV(classifier, params, toPredict, cv=5)\n",
    "radialScore = sum(scores['test_score'] / len(scores['test_score']))\n",
    "print(radialScore)"
   ]
  },
  {
   "cell_type": "markdown",
   "metadata": {},
   "source": [
    "****Answer:**** The best performing was the linear, followed by radial, followed closely by polynomial"
   ]
  },
  {
   "cell_type": "markdown",
   "metadata": {},
   "source": [
    "9a)  Create a training a set of 800 random samples"
   ]
  },
  {
   "cell_type": "code",
   "execution_count": 4,
   "metadata": {},
   "outputs": [],
   "source": [
    "oj = pd.read_csv(os.path.join(direct, 'oj.csv'))"
   ]
  },
  {
   "cell_type": "code",
   "execution_count": 8,
   "metadata": {},
   "outputs": [],
   "source": [
    "oj['Store7_io'] = oj['Store7'].apply(lambda x: 1 if x=='Yes' else 0)\n",
    "oj['Purchase_CH'] = oj['Purchase'].apply(lambda x: 1 if x=='CH' else 0)\n",
    "oj.drop(columns=['Store7', 'Purchase'], inplace=True)"
   ]
  },
  {
   "cell_type": "code",
   "execution_count": 10,
   "metadata": {},
   "outputs": [],
   "source": [
    "train = oj.sample(n=800)\n",
    "test = oj.drop(train.index)"
   ]
  },
  {
   "cell_type": "markdown",
   "metadata": {},
   "source": [
    "b)  Fit a support vector classifier to the training data using C=0.01, purchase as the response, and the others as the predictors.  Describe the results."
   ]
  },
  {
   "cell_type": "code",
   "execution_count": 31,
   "metadata": {},
   "outputs": [],
   "source": [
    "y_train = train['Purchase_CH']\n",
    "x_train = train.drop(columns=['Purchase_CH'])\n",
    "\n",
    "y_test = test['Purchase_CH']\n",
    "x_test = test.drop(columns=['Purchase_CH'])"
   ]
  },
  {
   "cell_type": "code",
   "execution_count": 39,
   "metadata": {},
   "outputs": [],
   "source": [
    "classifier = SVC(C=0.01, kernel='linear', random_state = seed)\n",
    "model = classifier.fit(x_train, y_train)\n",
    "\n",
    "preds = model.predict(x_train)\n",
    "predictions = pd.DataFrame(preds, columns=['Prediction'])\n",
    "all = pd.concat((predictions, y_train), axis=1)\n",
    "all['right'] = all.apply(lambda row: 1 if row['Prediction']==row['Purchase_CH'] else 0, axis=1)\n",
    "trainAccuracy = all['right'].sum() / all.shape[0]"
   ]
  },
  {
   "cell_type": "markdown",
   "metadata": {},
   "source": [
    "c) What are the training and test error rates?"
   ]
  },
  {
   "cell_type": "code",
   "execution_count": 40,
   "metadata": {},
   "outputs": [],
   "source": [
    "test_preds = model.predict(x_test)\n",
    "predictions = pd.DataFrame(test_preds, columns=['Prediction'])\n",
    "all = pd.concat((predictions, y_test), axis=1)\n",
    "all['right'] = all.apply(lambda row: 1 if row['Prediction']==row['Purchase_CH'] else 0, axis=1)\n",
    "testAccuracy = all['right'].sum() / all.shape[0]"
   ]
  },
  {
   "cell_type": "code",
   "execution_count": 41,
   "metadata": {},
   "outputs": [
    {
     "name": "stdout",
     "output_type": "stream",
     "text": [
      "Train Accuracy:  0.76625\n",
      "Test Accuracy:  0.737037037037037\n"
     ]
    }
   ],
   "source": [
    "print('Train Accuracy:  {}\\nTest Accuracy:  {}'.format(trainAccuracy, testAccuracy))"
   ]
  },
  {
   "cell_type": "markdown",
   "metadata": {},
   "source": [
    "d) Find the best cost using cross validation?\n",
    "e) Compute the accuracy rates for training and testing rates using the new value of cost"
   ]
  },
  {
   "cell_type": "code",
   "execution_count": 46,
   "metadata": {},
   "outputs": [],
   "source": [
    "from sklearn.svm import SVC\n",
    "from sklearn.model_selection import cross_validate as CV\n",
    "\n",
    "data = []\n",
    "for i in [0.01, 0.1, 0.5, 1, 2, 3, 5, 7.5, 10]:\n",
    "    classifier = SVC(C=i, kernel='linear', random_state = seed)\n",
    "    scores = CV(classifier, params, toPredict, cv=10)\n",
    "    linScore = linScore = sum(scores['test_score'] / len(scores['test_score']))\n",
    "    data.append([i, linScore])"
   ]
  },
  {
   "cell_type": "code",
   "execution_count": 47,
   "metadata": {},
   "outputs": [
    {
     "data": {
      "image/png": "[encoded data removed]",
      "text/plain": [
       "<Figure size 432x288 with 1 Axes>"
      ]
     },
     "metadata": {
      "needs_background": "light"
     },
     "output_type": "display_data"
    }
   ],
   "source": [
    "d = pd.DataFrame(data, columns=['error', 'MSE'])\n",
    "d.plot(x='error', y='MSE');"
   ]
  },
  {
   "cell_type": "markdown",
   "metadata": {},
   "source": [
    "****Answer:**** It looks like C=0.5 is the best"
   ]
  },
  {
   "cell_type": "code",
   "execution_count": 48,
   "metadata": {},
   "outputs": [
    {
     "name": "stdout",
     "output_type": "stream",
     "text": [
      "Train Accuracy:  0.83625\n",
      "Test Accuracy:  0.8407407407407408\n"
     ]
    }
   ],
   "source": [
    "classifier = SVC(C=0.5, kernel='linear', random_state = seed)\n",
    "model = classifier.fit(x_train, y_train)\n",
    "\n",
    "preds = model.predict(x_train)\n",
    "predictions = pd.DataFrame(preds, columns=['Prediction'])\n",
    "all = pd.concat((predictions, y_train), axis=1)\n",
    "all['right'] = all.apply(lambda row: 1 if row['Prediction']==row['Purchase_CH'] else 0, axis=1)\n",
    "trainAccuracy = all['right'].sum() / all.shape[0]\n",
    "\n",
    "test_preds = model.predict(x_test)\n",
    "predictions = pd.DataFrame(test_preds, columns=['Prediction'])\n",
    "all = pd.concat((predictions, y_test), axis=1)\n",
    "all['right'] = all.apply(lambda row: 1 if row['Prediction']==row['Purchase_CH'] else 0, axis=1)\n",
    "testAccuracy = all['right'].sum() / all.shape[0]\n",
    "\n",
    "print('Train Accuracy:  {}\\nTest Accuracy:  {}'.format(trainAccuracy, testAccuracy))"
   ]
  },
  {
   "cell_type": "markdown",
   "metadata": {},
   "source": [
    "g) Try with polynomial kernel and degree = 2"
   ]
  },
  {
   "cell_type": "code",
   "execution_count": 53,
   "metadata": {},
   "outputs": [],
   "source": [
    "from sklearn.svm import SVC\n",
    "from sklearn.model_selection import cross_validate as CV\n",
    "\n",
    "data = []\n",
    "for i in [0.01, 0.1, 0.5, 1, 2, 3, 5, 7.5, 10, 12, 14, 16, 18]:\n",
    "    classifier = SVC(C=i, kernel='poly', degree=2, random_state = seed)\n",
    "    scores = CV(classifier, params, toPredict, cv=10)\n",
    "    linScore = linScore = sum(scores['test_score'] / len(scores['test_score']))\n",
    "    data.append([i, linScore])"
   ]
  },
  {
   "cell_type": "code",
   "execution_count": 54,
   "metadata": {},
   "outputs": [
    {
     "data": {
      "image/png": "[encoded data removed]",
      "text/plain": [
       "<Figure size 432x288 with 1 Axes>"
      ]
     },
     "metadata": {
      "needs_background": "light"
     },
     "output_type": "display_data"
    }
   ],
   "source": [
    "d = pd.DataFrame(data, columns=['error', 'MSE'])\n",
    "d.plot(x='error', y='MSE');"
   ]
  },
  {
   "cell_type": "code",
   "execution_count": 55,
   "metadata": {},
   "outputs": [
    {
     "name": "stdout",
     "output_type": "stream",
     "text": [
      "Train Accuracy:  0.615\n",
      "Test Accuracy:  0.5962962962962963\n"
     ]
    }
   ],
   "source": [
    "classifier = SVC(C=10, kernel='poly', degree=2, random_state = seed)\n",
    "model = classifier.fit(x_train, y_train)\n",
    "\n",
    "preds = model.predict(x_train)\n",
    "predictions = pd.DataFrame(preds, columns=['Prediction'])\n",
    "all = pd.concat((predictions, y_train), axis=1)\n",
    "all['right'] = all.apply(lambda row: 1 if row['Prediction']==row['Purchase_CH'] else 0, axis=1)\n",
    "trainAccuracy = all['right'].sum() / all.shape[0]\n",
    "\n",
    "test_preds = model.predict(x_test)\n",
    "predictions = pd.DataFrame(test_preds, columns=['Prediction'])\n",
    "all = pd.concat((predictions, y_test), axis=1)\n",
    "all['right'] = all.apply(lambda row: 1 if row['Prediction']==row['Purchase_CH'] else 0, axis=1)\n",
    "testAccuracy = all['right'].sum() / all.shape[0]\n",
    "\n",
    "print('Train Accuracy:  {}\\nTest Accuracy:  {}'.format(trainAccuracy, testAccuracy))"
   ]
  },
  {
   "cell_type": "code",
   "execution_count": null,
   "metadata": {},
   "outputs": [],
   "source": []
  }
 ],
 "metadata": {
  "kernelspec": {
   "display_name": "Python 3",
   "language": "python",
   "name": "python3"
  },
  "language_info": {
   "codemirror_mode": {
    "name": "ipython",
    "version": 3
   },
   "file_extension": ".py",
   "mimetype": "text/x-python",
   "name": "python",
   "nbconvert_exporter": "python",
   "pygments_lexer": "ipython3",
   "version": "3.7.4"
  }
 },
 "nbformat": 4,
 "nbformat_minor": 2
}
