{
 "cells": [
  {
   "cell_type": "markdown",
   "metadata": {},
   "source": [
    "8. Using the carseats data set, we will predict sales using regression trees and related approaches, treating the response as a quantitative variable"
   ]
  },
  {
   "cell_type": "code",
   "execution_count": 1,
   "metadata": {},
   "outputs": [],
   "source": [
    "import os\n",
    "import pandas as pd"
   ]
  },
  {
   "cell_type": "code",
   "execution_count": 2,
   "metadata": {},
   "outputs": [],
   "source": [
    "direct = os.getcwd()\n",
    "carPath = os.path.join(direct, 'carseats.csv')\n",
    "carseat = pd.read_csv(carPath)"
   ]
  },
  {
   "cell_type": "code",
   "execution_count": 3,
   "metadata": {},
   "outputs": [],
   "source": [
    "def sl_quant(val):\n",
    "    if val == 'Bad':\n",
    "        return 0\n",
    "    elif val == 'Medium':\n",
    "        return 1\n",
    "    else:\n",
    "        return 2"
   ]
  },
  {
   "cell_type": "code",
   "execution_count": 4,
   "metadata": {},
   "outputs": [],
   "source": [
    "carseat['ShelveLoc_quant'] = carseat['ShelveLoc'].apply(lambda x: sl_quant(x))\n",
    "carseat['Urban_io'] = carseat['Urban'].apply(lambda x: 1 if x=='Yes' else 0)\n",
    "carseat['US_io'] = carseat['US'].apply(lambda x: 1 if x=='Yes' else 0)\n",
    "carseat = carseat.drop(columns=['ShelveLoc', 'Urban', 'US'])"
   ]
  },
  {
   "cell_type": "markdown",
   "metadata": {},
   "source": [
    "a) split the data into a training and test set"
   ]
  },
  {
   "cell_type": "code",
   "execution_count": 5,
   "metadata": {},
   "outputs": [],
   "source": [
    "y_data = carseat['Sales']\n",
    "x_data = carseat.drop(columns = ['Sales'])"
   ]
  },
  {
   "cell_type": "code",
   "execution_count": 6,
   "metadata": {},
   "outputs": [],
   "source": [
    "from sklearn.model_selection import train_test_split as tts\n",
    "x_train, x_test, y_train, y_test = tts(x_data, y_data, test_size=0.25, random_state=0)"
   ]
  },
  {
   "cell_type": "markdown",
   "metadata": {},
   "source": [
    "b) Fit a regression tree to the training set.  Plot the tree, and interpret the results.  What test MSE do you obtain?"
   ]
  },
  {
   "cell_type": "code",
   "execution_count": 7,
   "metadata": {},
   "outputs": [],
   "source": [
    "from sklearn.tree import DecisionTreeRegressor as dtReg\n",
    "\n",
    "tree = dtReg(random_state=0)\n",
    "model = tree.fit(x_train, y_train)"
   ]
  },
  {
   "cell_type": "code",
   "execution_count": 8,
   "metadata": {},
   "outputs": [
    {
     "data": {
      "text/plain": [
       "\" The following plots the tree, but it is uninterpretable\\n\\nfrom sklearn.tree import plot_tree\\nfrom matplotlib import pyplot as plt\\n\\nfig = plt.figure(figsize=(25,20))\\n_ = plot_tree(tree, \\n                   feature_names=x_data.columns,  \\n                   class_names='Sales',\\n                   filled=True)\\n                   \\n\""
      ]
     },
     "execution_count": 8,
     "metadata": {},
     "output_type": "execute_result"
    }
   ],
   "source": [
    "''' The following plots the tree, but it is uninterpretable\n",
    "\n",
    "from sklearn.tree import plot_tree\n",
    "from matplotlib import pyplot as plt\n",
    "\n",
    "fig = plt.figure(figsize=(25,20))\n",
    "_ = plot_tree(tree, \n",
    "                   feature_names=x_data.columns,  \n",
    "                   class_names='Sales',\n",
    "                   filled=True)\n",
    "                   \n",
    "'''"
   ]
  },
  {
   "cell_type": "code",
   "execution_count": 9,
   "metadata": {},
   "outputs": [
    {
     "data": {
      "text/plain": [
       "5.191509000000001"
      ]
     },
     "execution_count": 9,
     "metadata": {},
     "output_type": "execute_result"
    }
   ],
   "source": [
    "from sklearn.metrics import mean_squared_error as mse\n",
    "mse(y_test, tree.predict(x_test))"
   ]
  },
  {
   "cell_type": "markdown",
   "metadata": {},
   "source": [
    "c) Use cross validation to determine the optimal value of tree complexity.  Does pruning improve the test MSE?"
   ]
  },
  {
   "cell_type": "code",
   "execution_count": 10,
   "metadata": {},
   "outputs": [],
   "source": [
    "data = []\n",
    "for i in range(1, 15):\n",
    "    tree = dtReg(random_state=0, max_depth=i)\n",
    "    model = tree.fit(x_train, y_train)\n",
    "    test_error = mse(y_test, tree.predict(x_test))\n",
    "    data.append([i, test_error])"
   ]
  },
  {
   "cell_type": "code",
   "execution_count": 11,
   "metadata": {},
   "outputs": [],
   "source": [
    "d = pd.DataFrame(data, columns=['Depth', 'MSE'])\n",
    "d.plot(x='Depth', y='MSE');"
   ]
  },
  {
   "cell_type": "code",
   "execution_count": 12,
   "metadata": {},
   "outputs": [],
   "source": [
    "data = []\n",
    "for i in range(0, 50, 5):\n",
    "    alpha = i/100.0\n",
    "    tree = dtReg(random_state=0, max_depth=4, ccp_alpha = alpha)\n",
    "    model = tree.fit(x_train, y_train)\n",
    "    test_error = mse(y_test, tree.predict(x_test))\n",
    "    data.append([alpha, test_error])"
   ]
  },
  {
   "cell_type": "code",
   "execution_count": 13,
   "metadata": {},
   "outputs": [
    {
     "data": {
      "image/png": "[encoded data removed]",
      "text/plain": [
       "<Figure size 432x288 with 1 Axes>"
      ]
     },
     "metadata": {
      "needs_background": "light"
     },
     "output_type": "display_data"
    }
   ],
   "source": [
    "d = pd.DataFrame(data, columns=['alpha', 'MSE'])\n",
    "d.plot(x='alpha', y='MSE');"
   ]
  },
  {
   "cell_type": "markdown",
   "metadata": {},
   "source": [
    "****Answer:**** Yes, pruning improves the test MSE"
   ]
  },
  {
   "cell_type": "markdown",
   "metadata": {},
   "source": [
    "d) Use the bagging approach in order to analyze this data.  What test MSE do you obtain?  Determine which variables are the most important."
   ]
  },
  {
   "cell_type": "code",
   "execution_count": 14,
   "metadata": {},
   "outputs": [
    {
     "data": {
      "text/plain": [
       "2.836586976453146"
      ]
     },
     "execution_count": 14,
     "metadata": {},
     "output_type": "execute_result"
    }
   ],
   "source": [
    "from sklearn.ensemble import BaggingRegressor as bagReg\n",
    "from sklearn.model_selection import KFold\n",
    "from sklearn.model_selection import cross_val_score as cvScore\n",
    "\n",
    "tree = dtReg(random_state=0, max_depth = 4)\n",
    "trees = 100\n",
    "bags = bagReg(base_estimator=tree, n_estimators = trees, random_state=0)\n",
    "model = bags.fit(x_train, y_train)\n",
    "mse(y_test, model.predict(x_test))"
   ]
  },
  {
   "cell_type": "code",
   "execution_count": 20,
   "metadata": {},
   "outputs": [
    {
     "name": "stdout",
     "output_type": "stream",
     "text": [
      "          variable  importance\n",
      "7  ShelveLoc_quant    0.417512\n",
      "4            Price    0.334558\n",
      "5              Age    0.085665\n",
      "0        CompPrice    0.054605\n",
      "2      Advertising    0.050001\n",
      "1           Income    0.025054\n",
      "6        Education    0.015179\n",
      "3       Population    0.013571\n",
      "9            US_io    0.002728\n",
      "8         Urban_io    0.001127\n"
     ]
    }
   ],
   "source": [
    "import numpy as np\n",
    "feature_importances = np.mean([\n",
    "    tree.feature_importances_ for tree in bags.estimators_\n",
    "], axis=0)\n",
    "\n",
    "features = pd.concat((pd.DataFrame(x_train.columns, columns=['variable']),\n",
    "                     pd.DataFrame(feature_importances, columns=['importance'])),\n",
    "                    axis=1).sort_values(by='importance', ascending=False)\n",
    "print(features)"
   ]
  },
  {
   "cell_type": "code",
   "execution_count": null,
   "metadata": {},
   "outputs": [],
   "source": [
    "features = pd.concat((pd.DataFrame(train[list(feats)].columns, columns = ['variable']), \n",
    "               pd.DataFrame(la_outliers.feature_importances_, columns = ['importance'])), \n",
    "              axis = 1).sort_values(by='importance', ascending = False)[:20]\n",
    "print('\\n', features, '\\n')"
   ]
  },
  {
   "cell_type": "markdown",
   "metadata": {},
   "source": [
    "e) Use random forests to do the same as d"
   ]
  },
  {
   "cell_type": "code",
   "execution_count": 22,
   "metadata": {},
   "outputs": [
    {
     "data": {
      "text/plain": [
       "2.8287435345120566"
      ]
     },
     "execution_count": 22,
     "metadata": {},
     "output_type": "execute_result"
    }
   ],
   "source": [
    "from sklearn.ensemble import RandomForestRegressor as rfReg\n",
    "rf = rfReg(random_state=0, max_depth=4, n_estimators=100)\n",
    "model = rf.fit(x_train, y_train)\n",
    "mse(y_test, model.predict(x_test))"
   ]
  },
  {
   "cell_type": "code",
   "execution_count": 24,
   "metadata": {},
   "outputs": [
    {
     "name": "stdout",
     "output_type": "stream",
     "text": [
      "          variable  importance\n",
      "7  ShelveLoc_quant    0.417521\n",
      "4            Price    0.333724\n",
      "5              Age    0.086000\n",
      "0        CompPrice    0.054267\n",
      "2      Advertising    0.049416\n",
      "1           Income    0.025477\n",
      "6        Education    0.015533\n",
      "3       Population    0.013839\n",
      "9            US_io    0.002642\n",
      "8         Urban_io    0.001581\n"
     ]
    }
   ],
   "source": [
    "features = pd.concat((pd.DataFrame(x_train.columns, columns=['variable']),\n",
    "                     pd.DataFrame(model.feature_importances_, columns=['importance'])),\n",
    "                    axis=1).sort_values(by='importance', ascending=False)\n",
    "print(features)"
   ]
  },
  {
   "cell_type": "markdown",
   "metadata": {},
   "source": [
    "***\n"
   ]
  },
  {
   "cell_type": "code",
   "execution_count": null,
   "metadata": {},
   "outputs": [],
   "source": []
  }
 ],
 "metadata": {
  "kernelspec": {
   "display_name": "Python 3",
   "language": "python",
   "name": "python3"
  },
  "language_info": {
   "codemirror_mode": {
    "name": "ipython",
    "version": 3
   },
   "file_extension": ".py",
   "mimetype": "text/x-python",
   "name": "python",
   "nbconvert_exporter": "python",
   "pygments_lexer": "ipython3",
   "version": "3.7.4"
  }
 },
 "nbformat": 4,
 "nbformat_minor": 2
}
